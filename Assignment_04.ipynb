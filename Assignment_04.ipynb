{
 "cells": [
  {
   "cell_type": "markdown",
   "metadata": {},
   "source": [
    "Data Mining: Basic Concepts - WS'19/20 \n",
    "---------------\n",
    "``` \n",
    "> University of Konstanz \n",
    "> Department of Computer and Information Science\n",
    "> Dr. Johannes Fuchs, Eren Cakmak, Frederik Dennig\n",
    "```"
   ]
  },
  {
   "cell_type": "markdown",
   "metadata": {},
   "source": [
    "---"
   ]
  },
  {
   "cell_type": "markdown",
   "metadata": {},
   "source": [
    "#### Getting Started\n",
    "\n",
    "This exercise will give a short introduction into the framework Keras (https://keras.io/) and the back-end Tensorflow (https://www.tensorflow.org/) to build small and large neural networks.\n",
    " \n",
    "Keras is a high-level neural networks  API developed with a focus on enabling fast experimen tation. Being able to go from idea to result with the least possible delay is key to doing proper research. Further key features are:\n",
    "\n",
    "* Allows the same code to run on CPU or GPU, seamlessly.\n",
    "* User-friendly API which makes it easy to quickly prototype deep learning models.\n",
    "* Built-in support for convolutional networks (for computer vision), recurrent networks (for sequence processing), and any combination of both.\n",
    "* Supports arbitrary network architectures: multi-input or multi-output models, layer sharing, model sharing, etc. This means that Keras is appropriate for building essentially any deep learning model, from a memory network to a neural Turing machine. \n",
    "\n",
    "Tensorflow is a low-level neural network library using a computational graph and sessions on this graph to execute mathematical operations. It further enables the use of CPU and GPU for computations. Tensorflow incorporates the key features from Keras above but lacks the user-friendly API, instead provides a way to intervene a bit easier in the computational graph during execution time."
   ]
  },
  {
   "cell_type": "markdown",
   "metadata": {},
   "source": [
    "__Please install `tensorflow` and `keras`__"
   ]
  },
  {
   "cell_type": "markdown",
   "metadata": {},
   "source": [
    "#### More Information: \n",
    " \n",
    "Keras is rather straightforward, and you need just a few things to know how you build and train a model. Further information: https://github.com/keras-team/keras#getting-started-30-seconds-to-keras. The things you need to know are:\n",
    "\n",
    "1. How to create a model. \n",
    "2. How to select an optimizer, a loss function and a metric. \n",
    "3. How to train the model on data. \n",
    "4. How to predict. \n",
    "---"
   ]
  },
  {
   "cell_type": "markdown",
   "metadata": {},
   "source": [
    "#### Exercise 1:  Build your first small Neural Network - _(20 points)_\n",
    "\n",
    "__In this exercise we will use a Neural Network on a real data set. We will classify the digits dataset (MINST)__\n",
    "\n",
    "You are allowed to use the following packages only."
   ]
  },
  {
   "cell_type": "code",
   "execution_count": 1,
   "metadata": {},
   "outputs": [
    {
     "name": "stderr",
     "output_type": "stream",
     "text": [
      "Using TensorFlow backend.\n"
     ]
    }
   ],
   "source": [
    "import keras\n",
    "from keras.datasets import mnist\n",
    "from keras.models import Sequential\n",
    "from keras.layers import Dense\n",
    "from keras.optimizers import SGD, Adam\n",
    "import matplotlib.pyplot as plt"
   ]
  },
  {
   "cell_type": "markdown",
   "metadata": {},
   "source": [
    "##### __(a) Load the MNIST dataset. Split dataset into a training (80% rows) and test (20% rows) data.__\n",
    "_(Hint: use the `dataset_mnist()` from the Keras library)_"
   ]
  },
  {
   "cell_type": "code",
   "execution_count": 2,
   "metadata": {},
   "outputs": [],
   "source": [
    "(x_train, y_train), (x_test, y_test) = keras.datasets.mnist.load_data()"
   ]
  },
  {
   "cell_type": "markdown",
   "metadata": {},
   "source": [
    "##### __(b) Reshape and normalize the training and test data (28x28) into a 1d numpy array.__"
   ]
  },
  {
   "cell_type": "code",
   "execution_count": 3,
   "metadata": {},
   "outputs": [],
   "source": [
    "x_train = keras.utils.normalize(x_train, axis = 1)\n",
    "x_test = keras.utils.normalize(x_test, axis = 1)\n",
    "# Reshaping is performed in the model's layers"
   ]
  },
  {
   "cell_type": "markdown",
   "metadata": {},
   "source": [
    "##### __(c) Convert the class vectors to a binary class matrix (One-Hot encoding).__\n",
    "_(Hint: use the `keras.utils.to_categorical` from the Keras library)_"
   ]
  },
  {
   "cell_type": "code",
   "execution_count": 4,
   "metadata": {},
   "outputs": [],
   "source": [
    "y_train_matrix = keras.utils.to_categorical(y_train)\n",
    "y_test_matrix = keras.utils.to_categorical(y_test)"
   ]
  },
  {
   "cell_type": "markdown",
   "metadata": {},
   "source": [
    "##### __(d) Build a small neural network with three layers.__\n",
    "_(Hint: Use the `relu` actication function for the 1-2 layer and a `softmax` for the third layer.)_"
   ]
  },
  {
   "cell_type": "code",
   "execution_count": 5,
   "metadata": {},
   "outputs": [],
   "source": [
    "model = keras.models.Sequential()\n",
    "model.add(keras.layers.Flatten())\n",
    "model.add(keras.layers.Dense(32, activation='relu'))\n",
    "model.add(keras.layers.Dense(32, activation='relu'))\n",
    "model.add(keras.layers.Dense(10, activation='softmax'))"
   ]
  },
  {
   "cell_type": "markdown",
   "metadata": {},
   "source": [
    "##### __(e) Use as the loss function `mean_squared_error` and as the optimizes use `optimizers.SGD`.__"
   ]
  },
  {
   "cell_type": "code",
   "execution_count": 6,
   "metadata": {},
   "outputs": [],
   "source": [
    "model.compile(loss='mean_squared_error',\n",
    "              optimizer='sgd',\n",
    "              metrics=['acc'])"
   ]
  },
  {
   "cell_type": "markdown",
   "metadata": {},
   "source": [
    "##### __(f) Train the neural network on the training data set and predict the test data set.__\n",
    "_(Hint: Train the network with  20 epochs.)_"
   ]
  },
  {
   "cell_type": "code",
   "execution_count": 7,
   "metadata": {
    "scrolled": true
   },
   "outputs": [
    {
     "name": "stdout",
     "output_type": "stream",
     "text": [
      "Train on 48000 samples, validate on 12000 samples\n",
      "Epoch 1/20\n",
      "48000/48000 [==============================] - 5s 99us/step - loss: 0.0896 - acc: 0.1510 - val_loss: 0.0893 - val_acc: 0.1686\n",
      "Epoch 2/20\n",
      "48000/48000 [==============================] - 4s 82us/step - loss: 0.0891 - acc: 0.1912 - val_loss: 0.0887 - val_acc: 0.2167\n",
      "Epoch 3/20\n",
      "48000/48000 [==============================] - 6s 125us/step - loss: 0.0884 - acc: 0.2327 - val_loss: 0.0880 - val_acc: 0.2559\n",
      "Epoch 4/20\n",
      "48000/48000 [==============================] - 4s 85us/step - loss: 0.0876 - acc: 0.2693 - val_loss: 0.0870 - val_acc: 0.2932\n",
      "Epoch 5/20\n",
      "48000/48000 [==============================] - 4s 86us/step - loss: 0.0865 - acc: 0.3065 - val_loss: 0.0858 - val_acc: 0.3315\n",
      "Epoch 6/20\n",
      "48000/48000 [==============================] - 4s 83us/step - loss: 0.0853 - acc: 0.3449 - val_loss: 0.0844 - val_acc: 0.3714\n",
      "Epoch 7/20\n",
      "48000/48000 [==============================] - 5s 96us/step - loss: 0.0838 - acc: 0.3831 - val_loss: 0.0826 - val_acc: 0.4080\n",
      "Epoch 8/20\n",
      "48000/48000 [==============================] - 5s 98us/step - loss: 0.0819 - acc: 0.4165 - val_loss: 0.0805 - val_acc: 0.4378\n",
      "Epoch 9/20\n",
      "48000/48000 [==============================] - 5s 109us/step - loss: 0.0797 - acc: 0.4432 - val_loss: 0.0780 - val_acc: 0.4618\n",
      "Epoch 10/20\n",
      "48000/48000 [==============================] - 4s 87us/step - loss: 0.0771 - acc: 0.4645 - val_loss: 0.0752 - val_acc: 0.4787\n",
      "Epoch 11/20\n",
      "48000/48000 [==============================] - 4s 85us/step - loss: 0.0744 - acc: 0.4813 - val_loss: 0.0724 - val_acc: 0.4933\n",
      "Epoch 12/20\n",
      "48000/48000 [==============================] - 3s 68us/step - loss: 0.0716 - acc: 0.4962 - val_loss: 0.0695 - val_acc: 0.5038\n",
      "Epoch 13/20\n",
      "48000/48000 [==============================] - 3s 68us/step - loss: 0.0688 - acc: 0.5083 - val_loss: 0.0666 - val_acc: 0.5177\n",
      "Epoch 14/20\n",
      "48000/48000 [==============================] - 3s 68us/step - loss: 0.0660 - acc: 0.5213 - val_loss: 0.0638 - val_acc: 0.5330\n",
      "Epoch 15/20\n",
      "48000/48000 [==============================] - 3s 68us/step - loss: 0.0632 - acc: 0.5359 - val_loss: 0.0609 - val_acc: 0.5495\n",
      "Epoch 16/20\n",
      "48000/48000 [==============================] - 3s 70us/step - loss: 0.0604 - acc: 0.5546 - val_loss: 0.0580 - val_acc: 0.5727\n",
      "Epoch 17/20\n",
      "48000/48000 [==============================] - 3s 68us/step - loss: 0.0575 - acc: 0.5812 - val_loss: 0.0550 - val_acc: 0.6091\n",
      "Epoch 18/20\n",
      "48000/48000 [==============================] - 3s 68us/step - loss: 0.0546 - acc: 0.6175 - val_loss: 0.0520 - val_acc: 0.6518\n",
      "Epoch 19/20\n",
      "48000/48000 [==============================] - 3s 68us/step - loss: 0.0516 - acc: 0.6547 - val_loss: 0.0490 - val_acc: 0.6907\n",
      "Epoch 20/20\n",
      "48000/48000 [==============================] - 3s 68us/step - loss: 0.0487 - acc: 0.6841 - val_loss: 0.0460 - val_acc: 0.7129\n"
     ]
    }
   ],
   "source": [
    "dnn = model.fit(x_train, y_train_matrix, epochs=20, validation_split=0.2)"
   ]
  },
  {
   "cell_type": "markdown",
   "metadata": {},
   "source": [
    "##### __(g) Plot training and validation accuracy values.__"
   ]
  },
  {
   "cell_type": "code",
   "execution_count": 8,
   "metadata": {},
   "outputs": [
    {
     "data": {
      "image/png": "[encoded data removed]",
      "text/plain": [
       "<Figure size 432x288 with 1 Axes>"
      ]
     },
     "metadata": {
      "needs_background": "light"
     },
     "output_type": "display_data"
    }
   ],
   "source": [
    "plt.plot(dnn.history['acc'])\n",
    "plt.plot(dnn.history['val_acc'])\n",
    "plt.legend(['Training', 'Validation'], loc='lower right')\n",
    "plt.ylabel('Accuracy')\n",
    "plt.ylim((0,1))\n",
    "plt.xlabel('Epochs')\n",
    "plt.xticks(range(20))\n",
    "plt.show()"
   ]
  },
  {
   "cell_type": "markdown",
   "metadata": {},
   "source": [
    "##### __(h) Change the optimizer to `optimizers.Adam` and retrain.__\n",
    "_(Hint: Train the network with  20 epochs.)_"
   ]
  },
  {
   "cell_type": "code",
   "execution_count": 9,
   "metadata": {
    "scrolled": true
   },
   "outputs": [
    {
     "name": "stdout",
     "output_type": "stream",
     "text": [
      "Train on 48000 samples, validate on 12000 samples\n",
      "Epoch 1/20\n",
      "48000/48000 [==============================] - 4s 84us/step - loss: 0.0191 - acc: 0.8763 - val_loss: 0.0104 - val_acc: 0.9317\n",
      "Epoch 2/20\n",
      "48000/48000 [==============================] - 4s 80us/step - loss: 0.0094 - acc: 0.9400 - val_loss: 0.0087 - val_acc: 0.9448\n",
      "Epoch 3/20\n",
      "48000/48000 [==============================] - 4s 92us/step - loss: 0.0076 - acc: 0.9517 - val_loss: 0.0079 - val_acc: 0.9498\n",
      "Epoch 4/20\n",
      "48000/48000 [==============================] - 4s 90us/step - loss: 0.0065 - acc: 0.9592 - val_loss: 0.0073 - val_acc: 0.9523\n",
      "Epoch 5/20\n",
      "48000/48000 [==============================] - 4s 92us/step - loss: 0.0058 - acc: 0.9638 - val_loss: 0.0071 - val_acc: 0.9529\n",
      "Epoch 6/20\n",
      "48000/48000 [==============================] - 5s 100us/step - loss: 0.0052 - acc: 0.9675 - val_loss: 0.0064 - val_acc: 0.9583\n",
      "Epoch 7/20\n",
      "48000/48000 [==============================] - 4s 90us/step - loss: 0.0046 - acc: 0.9722 - val_loss: 0.0065 - val_acc: 0.9568\n",
      "Epoch 8/20\n",
      "48000/48000 [==============================] - 5s 96us/step - loss: 0.0043 - acc: 0.9735 - val_loss: 0.0065 - val_acc: 0.9584\n",
      "Epoch 9/20\n",
      "48000/48000 [==============================] - 4s 92us/step - loss: 0.0040 - acc: 0.9758 - val_loss: 0.0062 - val_acc: 0.9593\n",
      "Epoch 10/20\n",
      "48000/48000 [==============================] - 4s 85us/step - loss: 0.0037 - acc: 0.9776 - val_loss: 0.0062 - val_acc: 0.9594\n",
      "Epoch 11/20\n",
      "48000/48000 [==============================] - 4s 78us/step - loss: 0.0034 - acc: 0.9798 - val_loss: 0.0058 - val_acc: 0.9628\n",
      "Epoch 12/20\n",
      "48000/48000 [==============================] - 4s 78us/step - loss: 0.0031 - acc: 0.9811 - val_loss: 0.0059 - val_acc: 0.9632\n",
      "Epoch 13/20\n",
      "48000/48000 [==============================] - 4s 78us/step - loss: 0.0030 - acc: 0.9820 - val_loss: 0.0059 - val_acc: 0.9619\n",
      "Epoch 14/20\n",
      "48000/48000 [==============================] - 4s 79us/step - loss: 0.0028 - acc: 0.9835 - val_loss: 0.0058 - val_acc: 0.9630\n",
      "Epoch 15/20\n",
      "48000/48000 [==============================] - 4s 78us/step - loss: 0.0027 - acc: 0.9840 - val_loss: 0.0060 - val_acc: 0.9617\n",
      "Epoch 16/20\n",
      "48000/48000 [==============================] - 4s 78us/step - loss: 0.0026 - acc: 0.9849 - val_loss: 0.0058 - val_acc: 0.9643\n",
      "Epoch 17/20\n",
      "48000/48000 [==============================] - 4s 79us/step - loss: 0.0024 - acc: 0.9860 - val_loss: 0.0059 - val_acc: 0.9622\n",
      "Epoch 18/20\n",
      "48000/48000 [==============================] - 4s 79us/step - loss: 0.0023 - acc: 0.9869 - val_loss: 0.0061 - val_acc: 0.9620\n",
      "Epoch 19/20\n",
      "48000/48000 [==============================] - 4s 78us/step - loss: 0.0022 - acc: 0.9873 - val_loss: 0.0061 - val_acc: 0.9615\n",
      "Epoch 20/20\n",
      "48000/48000 [==============================] - 4s 78us/step - loss: 0.0022 - acc: 0.9874 - val_loss: 0.0060 - val_acc: 0.9632\n"
     ]
    }
   ],
   "source": [
    "model2 = keras.models.Sequential()\n",
    "model2.add(keras.layers.Flatten())\n",
    "model2.add(keras.layers.Dense(32, activation='relu'))\n",
    "model2.add(keras.layers.Dense(32, activation='relu'))\n",
    "model2.add(keras.layers.Dense(10, activation='softmax'))\n",
    "\n",
    "model2.compile(loss='mean_squared_error',\n",
    "               optimizer='adam',\n",
    "               metrics=['acc'])\n",
    "\n",
    "dnn2 = model2.fit(x_train, y_train_matrix, epochs=20, validation_split=0.2)"
   ]
  },
  {
   "cell_type": "markdown",
   "metadata": {},
   "source": [
    "##### __(i) Plot training and validation accuracy values for the new model.__"
   ]
  },
  {
   "cell_type": "code",
   "execution_count": 10,
   "metadata": {},
   "outputs": [
    {
     "data": {
      "image/png": "[encoded data removed]",
      "text/plain": [
       "<Figure size 432x288 with 1 Axes>"
      ]
     },
     "metadata": {
      "needs_background": "light"
     },
     "output_type": "display_data"
    }
   ],
   "source": [
    "plt.plot(dnn2.history['acc'])\n",
    "plt.plot(dnn2.history['val_acc'])\n",
    "plt.legend(['Training', 'Validation'], loc='lower right')\n",
    "plt.ylabel('Accuracy')\n",
    "plt.ylim((0,1))\n",
    "plt.xlabel('Epochs')\n",
    "plt.xticks(range(20))\n",
    "plt.show()"
   ]
  },
  {
   "cell_type": "markdown",
   "metadata": {},
   "source": [
    "##### __(j) Compare the results of the two trained models and discuss the results.__"
   ]
  },
  {
   "cell_type": "markdown",
   "metadata": {},
   "source": [
    "> Obviously, optimizer adam does create a way better  \n",
    "> accuracy from the beginning. Therefore, it cannot  \n",
    "> grow that much as compared to SGD. The accuracy rises,  \n",
    "> even though in there as well growth reduces gradually.  \n",
    ">\n",
    "> Due to the way better accuracy, I think that adam as  \n",
    "> an optimizer should be used in this case.\n",
    "\n",
    "> (Validation is always more accurate than the training in SGD,  \n",
    "> while that is reversed (most completely) when using adam.  \n",
    "> This is further discussed in the next section.)"
   ]
  },
  {
   "cell_type": "markdown",
   "metadata": {},
   "source": [
    "##### __(k) Do you see overfitting in the history?__"
   ]
  },
  {
   "cell_type": "markdown",
   "metadata": {},
   "source": [
    "> Since the accuracy-score of the training data is higher  \n",
    "> (at least from the third epoch on) than the validation's  \n",
    "> overfitting might be a problem. But due to the very small  \n",
    "> delta between the two curves, I do not think one can state  \n",
    "> that being a serious problem in here."
   ]
  },
  {
   "cell_type": "markdown",
   "metadata": {},
   "source": [
    "---"
   ]
  }
 ],
 "metadata": {
  "kernelspec": {
   "display_name": "Python 3",
   "language": "python",
   "name": "python3"
  },
  "language_info": {
   "codemirror_mode": {
    "name": "ipython",
    "version": 3
   },
   "file_extension": ".py",
   "mimetype": "text/x-python",
   "name": "python",
   "nbconvert_exporter": "python",
   "pygments_lexer": "ipython3",
   "version": "3.7.5"
  }
 },
 "nbformat": 4,
 "nbformat_minor": 4
}
