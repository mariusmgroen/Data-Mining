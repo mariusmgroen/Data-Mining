{
 "cells": [
  {
   "cell_type": "markdown",
   "metadata": {},
   "source": [
    "Data Mining: Basic Concepts - WS'19/20 \n",
    "---------------\n",
    "``` \n",
    "> University of Konstanz \n",
    "> Department of Computer and Information Science\n",
    "> Dr. Johannes Fuchs, Eren Cakmak, Frederik Dennig\n",
    "```"
   ]
  },
  {
   "cell_type": "markdown",
   "metadata": {},
   "source": [
    "---"
   ]
  },
  {
   "cell_type": "markdown",
   "metadata": {},
   "source": [
    "#### Exercise 1: PCA - _(6 Points)_\n",
    "\n",
    "We want to apply the principal component analysis (PCA) to the following ``numpy.array`` data. Continue with the following steps in order to calculate the PCA manually. Do not use any libraries for this task. You may however use any ``numpy`` and ``pandas`` method."
   ]
  },
  {
   "cell_type": "code",
   "execution_count": 1,
   "metadata": {},
   "outputs": [],
   "source": [
    "import numpy as np\n",
    "import pandas as pd\n",
    "import seaborn as sns\n",
    "import matplotlib.pyplot as plt\n",
    "from sklearn import datasets"
   ]
  },
  {
   "cell_type": "code",
   "execution_count": 2,
   "metadata": {},
   "outputs": [
    {
     "data": {
      "image/png": "[encoded data removed]",
      "text/plain": [
       "<Figure size 432x288 with 1 Axes>"
      ]
     },
     "metadata": {
      "needs_background": "light"
     },
     "output_type": "display_data"
    }
   ],
   "source": [
    "reg = np.random.RandomState(1)\n",
    "arr = np.dot(reg.rand(2, 2), reg.randn(2, 200)).T\n",
    "sns.scatterplot(x = arr[:,0], y = arr[:,1])\n",
    "plt.show()"
   ]
  },
  {
   "cell_type": "markdown",
   "metadata": {},
   "source": [
    "##### __(a) Subtract the mean of the attributes__"
   ]
  },
  {
   "cell_type": "code",
   "execution_count": 3,
   "metadata": {},
   "outputs": [
    {
     "name": "stdout",
     "output_type": "stream",
     "text": [
      "(new) X mean: -0.00000000\n",
      "(new) Y mean: -0.00000000\n"
     ]
    }
   ],
   "source": [
    "x_mean = arr[:,0].mean()\n",
    "x_sub = arr[:,0] - x_mean\n",
    "# Mean should be zero by now (or very close to it)\n",
    "print('(new) X mean: {:.8f}'.format(x_sub.mean()))\n",
    "\n",
    "y_mean = arr[:,1].mean()\n",
    "y_sub = arr[:,1] - y_mean\n",
    "# Mean should be zero by now (or very close to it)\n",
    "print('(new) Y mean: {:.8f}'.format(y_sub.mean()))"
   ]
  },
  {
   "cell_type": "markdown",
   "metadata": {},
   "source": [
    "##### __(b) Compute the covariance matrix__ _(Hint: use ``numpy.cov()``)_"
   ]
  },
  {
   "cell_type": "code",
   "execution_count": 4,
   "metadata": {},
   "outputs": [
    {
     "name": "stdout",
     "output_type": "stream",
     "text": [
      "[[0.68217761 0.23093475]\n",
      " [0.23093475 0.09883179]]\n"
     ]
    }
   ],
   "source": [
    "cov_mat = np.cov(x_sub, y_sub)\n",
    "print(cov_mat)"
   ]
  },
  {
   "cell_type": "markdown",
   "metadata": {},
   "source": [
    "##### __(c) Determine the eigenvalues/eigenvectors of the matrix__ _(Hint: use ``numpy.linalg.eig()``)_"
   ]
  },
  {
   "cell_type": "code",
   "execution_count": 5,
   "metadata": {},
   "outputs": [
    {
     "name": "stdout",
     "output_type": "stream",
     "text": [
      "[0.7625315 0.0184779]\n",
      "[[ 0.94446029 -0.32862557]\n",
      " [ 0.32862557  0.94446029]]\n"
     ]
    }
   ],
   "source": [
    "w, v = np.linalg.eig(cov_mat)\n",
    "print(w)\n",
    "print(v)"
   ]
  },
  {
   "cell_type": "markdown",
   "metadata": {},
   "source": [
    "##### __(d) Transform the data using the eigenvectors and plot the result.__"
   ]
  },
  {
   "cell_type": "code",
   "execution_count": 6,
   "metadata": {},
   "outputs": [
    {
     "data": {
      "image/png": "[encoded data removed]",
      "text/plain": [
       "<Figure size 432x288 with 1 Axes>"
      ]
     },
     "metadata": {
      "needs_background": "light"
     },
     "output_type": "display_data"
    }
   ],
   "source": [
    "w1 = (v[0,0] * x_sub) + (v[1,0] * y_sub)\n",
    "w2 = (v[0,1] * x_sub) + (v[1,1] * y_sub)\n",
    "\n",
    "sns.scatterplot(w1, w2)\n",
    "plt.show()"
   ]
  },
  {
   "cell_type": "markdown",
   "metadata": {},
   "source": [
    "##### __(e) Name the percentage of the data variance that the first principle component already covers. (Calculate the ratio between the first eigenvalue and the sum of all eigenvalues)__"
   ]
  },
  {
   "cell_type": "code",
   "execution_count": 7,
   "metadata": {},
   "outputs": [
    {
     "name": "stdout",
     "output_type": "stream",
     "text": [
      "The first principle component covers 97.63% of the data variance.\n"
     ]
    }
   ],
   "source": [
    "cover = round(((w[0]/(w[0] + w[1])) * 100), 2)\n",
    "print('The first principle component covers {}% of the data variance.'.format(cover))"
   ]
  },
  {
   "cell_type": "markdown",
   "metadata": {},
   "source": [
    "##### __(f) Imagine you have a dataset with 4 attributes. How many Eigenvalues would you get during step c?__"
   ]
  },
  {
   "cell_type": "markdown",
   "metadata": {},
   "source": [
    "> **4**  \n",
    "> Always as much as dimensions/attributes."
   ]
  },
  {
   "cell_type": "markdown",
   "metadata": {},
   "source": [
    "---"
   ]
  },
  {
   "cell_type": "markdown",
   "metadata": {},
   "source": [
    "#### Exercise 2: Linear Interpolation - _(4 Points)_\n",
    "Given the following dataset: "
   ]
  },
  {
   "cell_type": "code",
   "execution_count": 8,
   "metadata": {},
   "outputs": [
    {
     "name": "stdout",
     "output_type": "stream",
     "text": [
      "   time  temperature\n",
      "0     1            3\n",
      "1     3            8\n",
      "2     5           12\n"
     ]
    }
   ],
   "source": [
    "import pandas as pd \n",
    "import numpy as np\n",
    "\n",
    "df = pd.DataFrame(np.array([[1, 3],\n",
    "                            [3, 8],\n",
    "                            [5, 12]]),\n",
    "                  columns=['time', 'temperature'])\n",
    "print(df)"
   ]
  },
  {
   "cell_type": "markdown",
   "metadata": {},
   "source": [
    "##### __(a) Implement a method that takes any non-existing hour of the day (x) in the dataset (e.g., x = 4) between two existing values and gives the corresponding Temperature (y). Use linear interpolation for that (see formula below).__ \n",
    "\n",
    "$ y = y_1 + (y_2 - y_1) * \\frac{x - x_1}{x_2 - x_1}$\n",
    "\n",
    "_(Hint: x and y are the values you are looking for to fill any non-existing pair of time and corresponding temperature. The other elements in the formula you should get from the existing data.)_"
   ]
  },
  {
   "cell_type": "code",
   "execution_count": 9,
   "metadata": {},
   "outputs": [],
   "source": [
    "def linear_interpolation(df, new_x):\n",
    "    df.sort_values('time', inplace=True)\n",
    "    \n",
    "    # Select the largest x/y value smaller then the to-be-imputed one  -  next bigger x/y\n",
    "    x1 = df[df['time'] < new_x].max()[0]\n",
    "    y1 = df[df['time'] < new_x].max()[1]\n",
    "    \n",
    "    # Select the smallest x/y value bigger then the to-be-imputed one  -  next smaller x/y\n",
    "    x2 = df[df['time'] > new_x].min()[0]\n",
    "    y2 = df[df['time'] > new_x].min()[1]\n",
    "    \n",
    "    # Compute new_y to given new_x usen the given formula for linear interpolation\n",
    "    new_y = y1 + (y2-y1) * ((new_x-x1) / (x2-x1))\n",
    "    \n",
    "    # Add new values as a new row to the data and resort (and reindex) it\n",
    "    new_data = pd.DataFrame(np.array([[new_x, new_y]]), columns=['time', 'temperature'])\n",
    "    df = df.append(new_data, ignore_index=True)\n",
    "    df.sort_values('time', inplace=True)\n",
    "    df.reset_index(drop=True, inplace=True)\n",
    "    \n",
    "    return(df)"
   ]
  },
  {
   "cell_type": "markdown",
   "metadata": {},
   "source": [
    "##### __(b)  Use your method from (a) to interpolate and create new data points for ``x = 2`` and ``x = 4``. Visualize in a scatter plot the provided dataset and the two new data points you just created.__"
   ]
  },
  {
   "cell_type": "code",
   "execution_count": 10,
   "metadata": {},
   "outputs": [],
   "source": [
    "import seaborn as sns"
   ]
  },
  {
   "cell_type": "code",
   "execution_count": 11,
   "metadata": {},
   "outputs": [
    {
     "name": "stdout",
     "output_type": "stream",
     "text": [
      "   time  temperature\n",
      "0   1.0          3.0\n",
      "1   2.0          5.5\n",
      "2   3.0          8.0\n",
      "3   4.0         10.0\n",
      "4   5.0         12.0\n"
     ]
    }
   ],
   "source": [
    "df = linear_interpolation(df, 2)\n",
    "df = linear_interpolation(df, 4)\n",
    "print(df)"
   ]
  },
  {
   "cell_type": "code",
   "execution_count": 12,
   "metadata": {},
   "outputs": [
    {
     "data": {
      "image/png": "[encoded data removed]",
      "text/plain": [
       "<Figure size 432x288 with 1 Axes>"
      ]
     },
     "metadata": {
      "needs_background": "light"
     },
     "output_type": "display_data"
    }
   ],
   "source": [
    "# I prefer a stepwise visualization, therefore:\n",
    "# Plot the old data\n",
    "sns.scatterplot(x=df['time'][[0,2,4]],\n",
    "                y=df['temperature'][[0,2,4]])\n",
    "sns.lineplot(x=df['time'][[0,2,4]],\n",
    "             y=df['temperature'][[0,2,4]])\n",
    "plt.show()"
   ]
  },
  {
   "cell_type": "code",
   "execution_count": 13,
   "metadata": {},
   "outputs": [
    {
     "data": {
      "image/png": "[encoded data removed]",
      "text/plain": [
       "<Figure size 432x288 with 1 Axes>"
      ]
     },
     "metadata": {
      "needs_background": "light"
     },
     "output_type": "display_data"
    }
   ],
   "source": [
    "# Still first the old data\n",
    "sns.scatterplot(x=df['time'][[0,2,4]],\n",
    "                y=df['temperature'][[0,2,4]])\n",
    "sns.lineplot(x=df['time'][[0,2,4]],\n",
    "             y=df['temperature'][[0,2,4]])\n",
    "\n",
    "# Now highlight the new imputed data\n",
    "sns.scatterplot(x=df['time'][[1,3]],\n",
    "                y=df['temperature'][[1,3]])\n",
    "plt.show()"
   ]
  },
  {
   "cell_type": "markdown",
   "metadata": {},
   "source": [
    "---"
   ]
  },
  {
   "cell_type": "markdown",
   "metadata": {},
   "source": [
    "#### Exercise 3: Decision Tree - _(6 Points)_\n",
    "You need to decide whether an incoming E-Mail is spam or not. The following attributes are stored for each E-Mail: TimeZone, GeoLocation, SuspiciousSubject, SuspiciousBody.\n",
    "\n",
    "|MsgID|TimeZone|GeoLocation|SuspiciousSubject|SuspiciousBody|Spam|\n",
    "|-----|--------|-----------|-----------------|--------------|----|\n",
    "|1|US|US|No|Yes|NoSpam|\n",
    "|2|US|US|No|No|NoSpam|\n",
    "|3|EU|US|No|Yes|Spam|\n",
    "|4|AS|EU|No|Yes|Spam|\n",
    "|5|AS|AS|Yes|Yes|Spam|\n",
    "|6|AS|AS|Yes|No|NoSpam|\n",
    "|7|EU|AS|Yes|No|Spam|\n",
    "|8|US|EU|No|Yes|NoSpam|\n",
    "|9|US|AS|Yes|Yes|Spam|\n",
    "|10|AS|EU|Yes|Yes|Spam|\n",
    "|11|US|EU|Yes|No|Spam|\n",
    "|12|EU|EU|No|No|Spam|\n",
    "|13|EU|US|Yes|Yes|Spam|\n",
    "|14|AS|EU|No|No|NoSpam|"
   ]
  },
  {
   "cell_type": "markdown",
   "metadata": {},
   "source": [
    "##### __Construct a decision tree based on the data of Table 2 by hand. Use the Information Gain as impurity measure. Multiple splits are allowed. If all records in one leave share the same class label, your tree has to terminate.__\n",
    "__Comment on the steps you performed to create the de-cision tree. Show the results of your calculations and draw plot the final decision tree using.__ \n",
    "\n",
    "_(Hint: you can use the ``![](imagename.png)`` to include a image in a markdown cell. Use this to include the created or handdrawn plot of the decision tree. Do not forget to also upload the image in your final submission.)_"
   ]
  },
  {
   "cell_type": "markdown",
   "metadata": {},
   "source": [
    "> ***See attached pictures:***"
   ]
  },
  {
   "cell_type": "markdown",
   "metadata": {},
   "source": [
    "<img src='Graphs/Ass01_DecTree_I.jpg' alt='Calculations: Ass01_DecTree_I.jpg'/>"
   ]
  },
  {
   "cell_type": "markdown",
   "metadata": {},
   "source": [
    "<img src='Graphs/Ass01_DecTree_II.png' alt='Results: Ass01_DecTree_II.png' width='700'/>"
   ]
  },
  {
   "cell_type": "markdown",
   "metadata": {},
   "source": [
    "---"
   ]
  },
  {
   "cell_type": "markdown",
   "metadata": {},
   "source": [
    "#### Exercise 4: Decision Tree in Python - _(4 Points)_\n",
    "In this task we will train and display a decision tree for the ``iris.csv`` data in Python. Only use the already imported packages for the each task. \n",
    "\n",
    "The classes of the flowers are mapped to numbers as follows: ``Iris-Setosa = 0``, ``Iris-Versicolour = 1``, ``Iris-Virginica = 2``"
   ]
  },
  {
   "cell_type": "code",
   "execution_count": 16,
   "metadata": {},
   "outputs": [],
   "source": [
    "import pandas as pd \n",
    "from sklearn import tree\n",
    "\n",
    "df = pd.read_csv('Data/iris.csv')\n",
    "\n",
    "X = df[['sepal_length', 'sepal_width', 'petal_length', 'petal_width']]\n",
    "y = df['species']"
   ]
  },
  {
   "cell_type": "markdown",
   "metadata": {},
   "source": [
    "##### __(a) Create a decision tree using the information gain and train the decision tree with the iris data. Use the ``species`` column as the target variable__ "
   ]
  },
  {
   "cell_type": "code",
   "execution_count": 17,
   "metadata": {},
   "outputs": [],
   "source": [
    "# Criterion='entropy' for using information gain instead of default gini\n",
    "clf = tree.DecisionTreeClassifier(criterion='entropy')\n",
    "clf = clf.fit(X, y)"
   ]
  },
  {
   "cell_type": "markdown",
   "metadata": {},
   "source": [
    "##### __(b) Display the decision tree from (a). Explain the result in the following markdown cell.__\n",
    "##### _(Hint: use the ``sklearn.tree.plot_tree`` or the ``sklearn.tree.export_graphviz`` method)_"
   ]
  },
  {
   "cell_type": "code",
   "execution_count": 18,
   "metadata": {
    "scrolled": false
   },
   "outputs": [
    {
     "data": {
      "text/plain": [
       "[Text(167.4, 199.32, 'X[2] <= 2.45\\nentropy = 1.585\\nsamples = 150\\nvalue = [50, 50, 50]'),\n",
       " Text(141.64615384615385, 163.07999999999998, 'entropy = 0.0\\nsamples = 50\\nvalue = [50, 0, 0]'),\n",
       " Text(193.15384615384616, 163.07999999999998, 'X[3] <= 1.75\\nentropy = 1.0\\nsamples = 100\\nvalue = [0, 50, 50]'),\n",
       " Text(103.01538461538462, 126.83999999999999, 'X[2] <= 4.95\\nentropy = 0.445\\nsamples = 54\\nvalue = [0, 49, 5]'),\n",
       " Text(51.50769230769231, 90.6, 'X[3] <= 1.65\\nentropy = 0.146\\nsamples = 48\\nvalue = [0, 47, 1]'),\n",
       " Text(25.753846153846155, 54.359999999999985, 'entropy = 0.0\\nsamples = 47\\nvalue = [0, 47, 0]'),\n",
       " Text(77.26153846153846, 54.359999999999985, 'entropy = 0.0\\nsamples = 1\\nvalue = [0, 0, 1]'),\n",
       " Text(154.52307692307693, 90.6, 'X[3] <= 1.55\\nentropy = 0.918\\nsamples = 6\\nvalue = [0, 2, 4]'),\n",
       " Text(128.76923076923077, 54.359999999999985, 'entropy = 0.0\\nsamples = 3\\nvalue = [0, 0, 3]'),\n",
       " Text(180.27692307692308, 54.359999999999985, 'X[2] <= 5.45\\nentropy = 0.918\\nsamples = 3\\nvalue = [0, 2, 1]'),\n",
       " Text(154.52307692307693, 18.119999999999976, 'entropy = 0.0\\nsamples = 2\\nvalue = [0, 2, 0]'),\n",
       " Text(206.03076923076924, 18.119999999999976, 'entropy = 0.0\\nsamples = 1\\nvalue = [0, 0, 1]'),\n",
       " Text(283.2923076923077, 126.83999999999999, 'X[2] <= 4.85\\nentropy = 0.151\\nsamples = 46\\nvalue = [0, 1, 45]'),\n",
       " Text(257.53846153846155, 90.6, 'X[1] <= 3.1\\nentropy = 0.918\\nsamples = 3\\nvalue = [0, 1, 2]'),\n",
       " Text(231.7846153846154, 54.359999999999985, 'entropy = 0.0\\nsamples = 2\\nvalue = [0, 0, 2]'),\n",
       " Text(283.2923076923077, 54.359999999999985, 'entropy = 0.0\\nsamples = 1\\nvalue = [0, 1, 0]'),\n",
       " Text(309.04615384615386, 90.6, 'entropy = 0.0\\nsamples = 43\\nvalue = [0, 0, 43]')]"
      ]
     },
     "execution_count": 18,
     "metadata": {},
     "output_type": "execute_result"
    },
    {
     "data": {
      "image/png": "[encoded data removed]",
      "text/plain": [
       "<Figure size 432x288 with 1 Axes>"
      ]
     },
     "metadata": {
      "needs_background": "light"
     },
     "output_type": "display_data"
    }
   ],
   "source": [
    "# Create the tree, added color and roundness for better visualization\n",
    "tree.plot_tree(clf,\n",
    "               filled=True,\n",
    "               rounded=True)"
   ]
  },
  {
   "cell_type": "markdown",
   "metadata": {},
   "source": [
    "> Because this is very small and I can not find out  \n",
    "> how to zoom it (changing font size makes it worse)  \n",
    "> I use the following package *graphviz* to display the exact same  \n",
    "> tree once again in a reasonable size:"
   ]
  },
  {
   "cell_type": "code",
   "execution_count": 19,
   "metadata": {},
   "outputs": [
    {
     "data": {
      "image/svg+xml": [
       "<?xml version=\"1.0\" encoding=\"UTF-8\" standalone=\"no\"?>\n",
       "<!DOCTYPE svg PUBLIC \"-//W3C//DTD SVG 1.1//EN\"\n",
       " \"http://www.w3.org/Graphics/SVG/1.1/DTD/svg11.dtd\">\n",
       "<!-- Generated by graphviz version 2.40.1 (20161225.0304)\n",
       " -->\n",
       "<!-- Title: Tree Pages: 1 -->\n",
       "<svg width=\"829pt\" height=\"558pt\"\n",
       " viewBox=\"0.00 0.00 828.91 558.00\" xmlns=\"http://www.w3.org/2000/svg\" xmlns:xlink=\"http://www.w3.org/1999/xlink\">\n",
       "<g id=\"graph0\" class=\"graph\" transform=\"scale(1 1) rotate(0) translate(4 554)\">\n",
       "<title>Tree</title>\n",
       "<polygon fill=\"#ffffff\" stroke=\"transparent\" points=\"-4,4 -4,-554 824.9063,-554 824.9063,4 -4,4\"/>\n",
       "<!-- 0 -->\n",
       "<g id=\"node1\" class=\"node\">\n",
       "<title>0</title>\n",
       "<path fill=\"#ffffff\" stroke=\"#000000\" d=\"M494.6215,-550C494.6215,-550 375.2848,-550 375.2848,-550 369.2848,-550 363.2848,-544 363.2848,-538 363.2848,-538 363.2848,-498 363.2848,-498 363.2848,-492 369.2848,-486 375.2848,-486 375.2848,-486 494.6215,-486 494.6215,-486 500.6215,-486 506.6215,-492 506.6215,-498 506.6215,-498 506.6215,-538 506.6215,-538 506.6215,-544 500.6215,-550 494.6215,-550\"/>\n",
       "<text text-anchor=\"middle\" x=\"434.9531\" y=\"-534.8\" font-family=\"Helvetica,sans-Serif\" font-size=\"14.00\" fill=\"#000000\">petal_length &lt;= 2.45</text>\n",
       "<text text-anchor=\"middle\" x=\"434.9531\" y=\"-520.8\" font-family=\"Helvetica,sans-Serif\" font-size=\"14.00\" fill=\"#000000\">entropy = 1.585</text>\n",
       "<text text-anchor=\"middle\" x=\"434.9531\" y=\"-506.8\" font-family=\"Helvetica,sans-Serif\" font-size=\"14.00\" fill=\"#000000\">samples = 150</text>\n",
       "<text text-anchor=\"middle\" x=\"434.9531\" y=\"-492.8\" font-family=\"Helvetica,sans-Serif\" font-size=\"14.00\" fill=\"#000000\">value = [50, 50, 50]</text>\n",
       "</g>\n",
       "<!-- 1 -->\n",
       "<g id=\"node2\" class=\"node\">\n",
       "<title>1</title>\n",
       "<path fill=\"#e58139\" stroke=\"#000000\" d=\"M409.8594,-443C409.8594,-443 314.0468,-443 314.0468,-443 308.0468,-443 302.0468,-437 302.0468,-431 302.0468,-431 302.0468,-405 302.0468,-405 302.0468,-399 308.0468,-393 314.0468,-393 314.0468,-393 409.8594,-393 409.8594,-393 415.8594,-393 421.8594,-399 421.8594,-405 421.8594,-405 421.8594,-431 421.8594,-431 421.8594,-437 415.8594,-443 409.8594,-443\"/>\n",
       "<text text-anchor=\"middle\" x=\"361.9531\" y=\"-427.8\" font-family=\"Helvetica,sans-Serif\" font-size=\"14.00\" fill=\"#000000\">entropy = 0.0</text>\n",
       "<text text-anchor=\"middle\" x=\"361.9531\" y=\"-413.8\" font-family=\"Helvetica,sans-Serif\" font-size=\"14.00\" fill=\"#000000\">samples = 50</text>\n",
       "<text text-anchor=\"middle\" x=\"361.9531\" y=\"-399.8\" font-family=\"Helvetica,sans-Serif\" font-size=\"14.00\" fill=\"#000000\">value = [50, 0, 0]</text>\n",
       "</g>\n",
       "<!-- 0&#45;&gt;1 -->\n",
       "<g id=\"edge1\" class=\"edge\">\n",
       "<title>0&#45;&gt;1</title>\n",
       "<path fill=\"none\" stroke=\"#000000\" d=\"M411.4536,-485.8089C403.4159,-474.7983 394.4106,-462.4623 386.3069,-451.3614\"/>\n",
       "<polygon fill=\"#000000\" stroke=\"#000000\" points=\"389.0397,-449.1688 380.3167,-443.1555 383.3859,-453.2961 389.0397,-449.1688\"/>\n",
       "<text text-anchor=\"middle\" x=\"376.4616\" y=\"-463.6565\" font-family=\"Helvetica,sans-Serif\" font-size=\"14.00\" fill=\"#000000\">True</text>\n",
       "</g>\n",
       "<!-- 2 -->\n",
       "<g id=\"node3\" class=\"node\">\n",
       "<title>2</title>\n",
       "<path fill=\"#ffffff\" stroke=\"#000000\" d=\"M566.1593,-450C566.1593,-450 451.7469,-450 451.7469,-450 445.7469,-450 439.7469,-444 439.7469,-438 439.7469,-438 439.7469,-398 439.7469,-398 439.7469,-392 445.7469,-386 451.7469,-386 451.7469,-386 566.1593,-386 566.1593,-386 572.1593,-386 578.1593,-392 578.1593,-398 578.1593,-398 578.1593,-438 578.1593,-438 578.1593,-444 572.1593,-450 566.1593,-450\"/>\n",
       "<text text-anchor=\"middle\" x=\"508.9531\" y=\"-434.8\" font-family=\"Helvetica,sans-Serif\" font-size=\"14.00\" fill=\"#000000\">petal_width &lt;= 1.75</text>\n",
       "<text text-anchor=\"middle\" x=\"508.9531\" y=\"-420.8\" font-family=\"Helvetica,sans-Serif\" font-size=\"14.00\" fill=\"#000000\">entropy = 1.0</text>\n",
       "<text text-anchor=\"middle\" x=\"508.9531\" y=\"-406.8\" font-family=\"Helvetica,sans-Serif\" font-size=\"14.00\" fill=\"#000000\">samples = 100</text>\n",
       "<text text-anchor=\"middle\" x=\"508.9531\" y=\"-392.8\" font-family=\"Helvetica,sans-Serif\" font-size=\"14.00\" fill=\"#000000\">value = [0, 50, 50]</text>\n",
       "</g>\n",
       "<!-- 0&#45;&gt;2 -->\n",
       "<g id=\"edge2\" class=\"edge\">\n",
       "<title>0&#45;&gt;2</title>\n",
       "<path fill=\"none\" stroke=\"#000000\" d=\"M458.7745,-485.8089C465.2442,-477.0661 472.3323,-467.4876 479.0902,-458.3553\"/>\n",
       "<polygon fill=\"#000000\" stroke=\"#000000\" points=\"482.0413,-460.2512 485.1764,-450.1308 476.4144,-456.0872 482.0413,-460.2512\"/>\n",
       "<text text-anchor=\"middle\" x=\"488.871\" y=\"-470.6562\" font-family=\"Helvetica,sans-Serif\" font-size=\"14.00\" fill=\"#000000\">False</text>\n",
       "</g>\n",
       "<!-- 3 -->\n",
       "<g id=\"node4\" class=\"node\">\n",
       "<title>3</title>\n",
       "<path fill=\"#4de88e\" stroke=\"#000000\" d=\"M461.6215,-350C461.6215,-350 342.2848,-350 342.2848,-350 336.2848,-350 330.2848,-344 330.2848,-338 330.2848,-338 330.2848,-298 330.2848,-298 330.2848,-292 336.2848,-286 342.2848,-286 342.2848,-286 461.6215,-286 461.6215,-286 467.6215,-286 473.6215,-292 473.6215,-298 473.6215,-298 473.6215,-338 473.6215,-338 473.6215,-344 467.6215,-350 461.6215,-350\"/>\n",
       "<text text-anchor=\"middle\" x=\"401.9531\" y=\"-334.8\" font-family=\"Helvetica,sans-Serif\" font-size=\"14.00\" fill=\"#000000\">petal_length &lt;= 4.95</text>\n",
       "<text text-anchor=\"middle\" x=\"401.9531\" y=\"-320.8\" font-family=\"Helvetica,sans-Serif\" font-size=\"14.00\" fill=\"#000000\">entropy = 0.445</text>\n",
       "<text text-anchor=\"middle\" x=\"401.9531\" y=\"-306.8\" font-family=\"Helvetica,sans-Serif\" font-size=\"14.00\" fill=\"#000000\">samples = 54</text>\n",
       "<text text-anchor=\"middle\" x=\"401.9531\" y=\"-292.8\" font-family=\"Helvetica,sans-Serif\" font-size=\"14.00\" fill=\"#000000\">value = [0, 49, 5]</text>\n",
       "</g>\n",
       "<!-- 2&#45;&gt;3 -->\n",
       "<g id=\"edge3\" class=\"edge\">\n",
       "<title>2&#45;&gt;3</title>\n",
       "<path fill=\"none\" stroke=\"#000000\" d=\"M474.5087,-385.8089C464.6766,-376.62 453.8567,-366.508 443.6416,-356.9612\"/>\n",
       "<polygon fill=\"#000000\" stroke=\"#000000\" points=\"446.0289,-354.4017 436.333,-350.1308 441.2492,-359.516 446.0289,-354.4017\"/>\n",
       "</g>\n",
       "<!-- 12 -->\n",
       "<g id=\"node13\" class=\"node\">\n",
       "<title>12</title>\n",
       "<path fill=\"#843de6\" stroke=\"#000000\" d=\"M675.6215,-350C675.6215,-350 556.2848,-350 556.2848,-350 550.2848,-350 544.2848,-344 544.2848,-338 544.2848,-338 544.2848,-298 544.2848,-298 544.2848,-292 550.2848,-286 556.2848,-286 556.2848,-286 675.6215,-286 675.6215,-286 681.6215,-286 687.6215,-292 687.6215,-298 687.6215,-298 687.6215,-338 687.6215,-338 687.6215,-344 681.6215,-350 675.6215,-350\"/>\n",
       "<text text-anchor=\"middle\" x=\"615.9531\" y=\"-334.8\" font-family=\"Helvetica,sans-Serif\" font-size=\"14.00\" fill=\"#000000\">petal_length &lt;= 4.85</text>\n",
       "<text text-anchor=\"middle\" x=\"615.9531\" y=\"-320.8\" font-family=\"Helvetica,sans-Serif\" font-size=\"14.00\" fill=\"#000000\">entropy = 0.151</text>\n",
       "<text text-anchor=\"middle\" x=\"615.9531\" y=\"-306.8\" font-family=\"Helvetica,sans-Serif\" font-size=\"14.00\" fill=\"#000000\">samples = 46</text>\n",
       "<text text-anchor=\"middle\" x=\"615.9531\" y=\"-292.8\" font-family=\"Helvetica,sans-Serif\" font-size=\"14.00\" fill=\"#000000\">value = [0, 1, 45]</text>\n",
       "</g>\n",
       "<!-- 2&#45;&gt;12 -->\n",
       "<g id=\"edge12\" class=\"edge\">\n",
       "<title>2&#45;&gt;12</title>\n",
       "<path fill=\"none\" stroke=\"#000000\" d=\"M543.3976,-385.8089C553.2297,-376.62 564.0495,-366.508 574.2646,-356.9612\"/>\n",
       "<polygon fill=\"#000000\" stroke=\"#000000\" points=\"576.657,-359.516 581.5732,-350.1308 571.8773,-354.4017 576.657,-359.516\"/>\n",
       "</g>\n",
       "<!-- 4 -->\n",
       "<g id=\"node5\" class=\"node\">\n",
       "<title>4</title>\n",
       "<path fill=\"#3de684\" stroke=\"#000000\" d=\"M251.1593,-250C251.1593,-250 136.7469,-250 136.7469,-250 130.7469,-250 124.7469,-244 124.7469,-238 124.7469,-238 124.7469,-198 124.7469,-198 124.7469,-192 130.7469,-186 136.7469,-186 136.7469,-186 251.1593,-186 251.1593,-186 257.1593,-186 263.1593,-192 263.1593,-198 263.1593,-198 263.1593,-238 263.1593,-238 263.1593,-244 257.1593,-250 251.1593,-250\"/>\n",
       "<text text-anchor=\"middle\" x=\"193.9531\" y=\"-234.8\" font-family=\"Helvetica,sans-Serif\" font-size=\"14.00\" fill=\"#000000\">petal_width &lt;= 1.65</text>\n",
       "<text text-anchor=\"middle\" x=\"193.9531\" y=\"-220.8\" font-family=\"Helvetica,sans-Serif\" font-size=\"14.00\" fill=\"#000000\">entropy = 0.146</text>\n",
       "<text text-anchor=\"middle\" x=\"193.9531\" y=\"-206.8\" font-family=\"Helvetica,sans-Serif\" font-size=\"14.00\" fill=\"#000000\">samples = 48</text>\n",
       "<text text-anchor=\"middle\" x=\"193.9531\" y=\"-192.8\" font-family=\"Helvetica,sans-Serif\" font-size=\"14.00\" fill=\"#000000\">value = [0, 47, 1]</text>\n",
       "</g>\n",
       "<!-- 3&#45;&gt;4 -->\n",
       "<g id=\"edge4\" class=\"edge\">\n",
       "<title>3&#45;&gt;4</title>\n",
       "<path fill=\"none\" stroke=\"#000000\" d=\"M335.2824,-285.9467C314.3838,-275.8993 291.1664,-264.7372 269.6893,-254.4116\"/>\n",
       "<polygon fill=\"#000000\" stroke=\"#000000\" points=\"271.1323,-251.2219 260.6032,-250.0433 268.0992,-257.5307 271.1323,-251.2219\"/>\n",
       "</g>\n",
       "<!-- 7 -->\n",
       "<g id=\"node8\" class=\"node\">\n",
       "<title>7</title>\n",
       "<path fill=\"#c09cf2\" stroke=\"#000000\" d=\"M459.1593,-250C459.1593,-250 344.7469,-250 344.7469,-250 338.7469,-250 332.7469,-244 332.7469,-238 332.7469,-238 332.7469,-198 332.7469,-198 332.7469,-192 338.7469,-186 344.7469,-186 344.7469,-186 459.1593,-186 459.1593,-186 465.1593,-186 471.1593,-192 471.1593,-198 471.1593,-198 471.1593,-238 471.1593,-238 471.1593,-244 465.1593,-250 459.1593,-250\"/>\n",
       "<text text-anchor=\"middle\" x=\"401.9531\" y=\"-234.8\" font-family=\"Helvetica,sans-Serif\" font-size=\"14.00\" fill=\"#000000\">petal_width &lt;= 1.55</text>\n",
       "<text text-anchor=\"middle\" x=\"401.9531\" y=\"-220.8\" font-family=\"Helvetica,sans-Serif\" font-size=\"14.00\" fill=\"#000000\">entropy = 0.918</text>\n",
       "<text text-anchor=\"middle\" x=\"401.9531\" y=\"-206.8\" font-family=\"Helvetica,sans-Serif\" font-size=\"14.00\" fill=\"#000000\">samples = 6</text>\n",
       "<text text-anchor=\"middle\" x=\"401.9531\" y=\"-192.8\" font-family=\"Helvetica,sans-Serif\" font-size=\"14.00\" fill=\"#000000\">value = [0, 2, 4]</text>\n",
       "</g>\n",
       "<!-- 3&#45;&gt;7 -->\n",
       "<g id=\"edge7\" class=\"edge\">\n",
       "<title>3&#45;&gt;7</title>\n",
       "<path fill=\"none\" stroke=\"#000000\" d=\"M401.9531,-285.8089C401.9531,-277.6906 401.9531,-268.8517 401.9531,-260.3186\"/>\n",
       "<polygon fill=\"#000000\" stroke=\"#000000\" points=\"405.4532,-260.1307 401.9531,-250.1308 398.4532,-260.1308 405.4532,-260.1307\"/>\n",
       "</g>\n",
       "<!-- 5 -->\n",
       "<g id=\"node6\" class=\"node\">\n",
       "<title>5</title>\n",
       "<path fill=\"#39e581\" stroke=\"#000000\" d=\"M107.8594,-143C107.8594,-143 12.0468,-143 12.0468,-143 6.0468,-143 .0468,-137 .0468,-131 .0468,-131 .0468,-105 .0468,-105 .0468,-99 6.0468,-93 12.0468,-93 12.0468,-93 107.8594,-93 107.8594,-93 113.8594,-93 119.8594,-99 119.8594,-105 119.8594,-105 119.8594,-131 119.8594,-131 119.8594,-137 113.8594,-143 107.8594,-143\"/>\n",
       "<text text-anchor=\"middle\" x=\"59.9531\" y=\"-127.8\" font-family=\"Helvetica,sans-Serif\" font-size=\"14.00\" fill=\"#000000\">entropy = 0.0</text>\n",
       "<text text-anchor=\"middle\" x=\"59.9531\" y=\"-113.8\" font-family=\"Helvetica,sans-Serif\" font-size=\"14.00\" fill=\"#000000\">samples = 47</text>\n",
       "<text text-anchor=\"middle\" x=\"59.9531\" y=\"-99.8\" font-family=\"Helvetica,sans-Serif\" font-size=\"14.00\" fill=\"#000000\">value = [0, 47, 0]</text>\n",
       "</g>\n",
       "<!-- 4&#45;&gt;5 -->\n",
       "<g id=\"edge5\" class=\"edge\">\n",
       "<title>4&#45;&gt;5</title>\n",
       "<path fill=\"none\" stroke=\"#000000\" d=\"M150.8171,-185.8089C135.195,-174.1506 117.5818,-161.0064 102.0502,-149.4157\"/>\n",
       "<polygon fill=\"#000000\" stroke=\"#000000\" points=\"103.7692,-146.3314 93.6616,-143.1555 99.5826,-151.9414 103.7692,-146.3314\"/>\n",
       "</g>\n",
       "<!-- 6 -->\n",
       "<g id=\"node7\" class=\"node\">\n",
       "<title>6</title>\n",
       "<path fill=\"#8139e5\" stroke=\"#000000\" d=\"M238.0733,-143C238.0733,-143 149.8329,-143 149.8329,-143 143.8329,-143 137.8329,-137 137.8329,-131 137.8329,-131 137.8329,-105 137.8329,-105 137.8329,-99 143.8329,-93 149.8329,-93 149.8329,-93 238.0733,-93 238.0733,-93 244.0733,-93 250.0733,-99 250.0733,-105 250.0733,-105 250.0733,-131 250.0733,-131 250.0733,-137 244.0733,-143 238.0733,-143\"/>\n",
       "<text text-anchor=\"middle\" x=\"193.9531\" y=\"-127.8\" font-family=\"Helvetica,sans-Serif\" font-size=\"14.00\" fill=\"#000000\">entropy = 0.0</text>\n",
       "<text text-anchor=\"middle\" x=\"193.9531\" y=\"-113.8\" font-family=\"Helvetica,sans-Serif\" font-size=\"14.00\" fill=\"#000000\">samples = 1</text>\n",
       "<text text-anchor=\"middle\" x=\"193.9531\" y=\"-99.8\" font-family=\"Helvetica,sans-Serif\" font-size=\"14.00\" fill=\"#000000\">value = [0, 0, 1]</text>\n",
       "</g>\n",
       "<!-- 4&#45;&gt;6 -->\n",
       "<g id=\"edge6\" class=\"edge\">\n",
       "<title>4&#45;&gt;6</title>\n",
       "<path fill=\"none\" stroke=\"#000000\" d=\"M193.9531,-185.8089C193.9531,-175.446 193.9531,-163.909 193.9531,-153.3327\"/>\n",
       "<polygon fill=\"#000000\" stroke=\"#000000\" points=\"197.4532,-153.1555 193.9531,-143.1555 190.4532,-153.1556 197.4532,-153.1555\"/>\n",
       "</g>\n",
       "<!-- 8 -->\n",
       "<g id=\"node9\" class=\"node\">\n",
       "<title>8</title>\n",
       "<path fill=\"#8139e5\" stroke=\"#000000\" d=\"M368.0733,-143C368.0733,-143 279.8329,-143 279.8329,-143 273.8329,-143 267.8329,-137 267.8329,-131 267.8329,-131 267.8329,-105 267.8329,-105 267.8329,-99 273.8329,-93 279.8329,-93 279.8329,-93 368.0733,-93 368.0733,-93 374.0733,-93 380.0733,-99 380.0733,-105 380.0733,-105 380.0733,-131 380.0733,-131 380.0733,-137 374.0733,-143 368.0733,-143\"/>\n",
       "<text text-anchor=\"middle\" x=\"323.9531\" y=\"-127.8\" font-family=\"Helvetica,sans-Serif\" font-size=\"14.00\" fill=\"#000000\">entropy = 0.0</text>\n",
       "<text text-anchor=\"middle\" x=\"323.9531\" y=\"-113.8\" font-family=\"Helvetica,sans-Serif\" font-size=\"14.00\" fill=\"#000000\">samples = 3</text>\n",
       "<text text-anchor=\"middle\" x=\"323.9531\" y=\"-99.8\" font-family=\"Helvetica,sans-Serif\" font-size=\"14.00\" fill=\"#000000\">value = [0, 0, 3]</text>\n",
       "</g>\n",
       "<!-- 7&#45;&gt;8 -->\n",
       "<g id=\"edge8\" class=\"edge\">\n",
       "<title>7&#45;&gt;8</title>\n",
       "<path fill=\"none\" stroke=\"#000000\" d=\"M376.8441,-185.8089C368.2558,-174.7983 358.6337,-162.4623 349.975,-151.3614\"/>\n",
       "<polygon fill=\"#000000\" stroke=\"#000000\" points=\"352.4846,-148.888 343.5744,-143.1555 346.965,-153.1932 352.4846,-148.888\"/>\n",
       "</g>\n",
       "<!-- 9 -->\n",
       "<g id=\"node10\" class=\"node\">\n",
       "<title>9</title>\n",
       "<path fill=\"#9cf2c0\" stroke=\"#000000\" d=\"M529.6215,-150C529.6215,-150 410.2848,-150 410.2848,-150 404.2848,-150 398.2848,-144 398.2848,-138 398.2848,-138 398.2848,-98 398.2848,-98 398.2848,-92 404.2848,-86 410.2848,-86 410.2848,-86 529.6215,-86 529.6215,-86 535.6215,-86 541.6215,-92 541.6215,-98 541.6215,-98 541.6215,-138 541.6215,-138 541.6215,-144 535.6215,-150 529.6215,-150\"/>\n",
       "<text text-anchor=\"middle\" x=\"469.9531\" y=\"-134.8\" font-family=\"Helvetica,sans-Serif\" font-size=\"14.00\" fill=\"#000000\">petal_length &lt;= 5.45</text>\n",
       "<text text-anchor=\"middle\" x=\"469.9531\" y=\"-120.8\" font-family=\"Helvetica,sans-Serif\" font-size=\"14.00\" fill=\"#000000\">entropy = 0.918</text>\n",
       "<text text-anchor=\"middle\" x=\"469.9531\" y=\"-106.8\" font-family=\"Helvetica,sans-Serif\" font-size=\"14.00\" fill=\"#000000\">samples = 3</text>\n",
       "<text text-anchor=\"middle\" x=\"469.9531\" y=\"-92.8\" font-family=\"Helvetica,sans-Serif\" font-size=\"14.00\" fill=\"#000000\">value = [0, 2, 1]</text>\n",
       "</g>\n",
       "<!-- 7&#45;&gt;9 -->\n",
       "<g id=\"edge9\" class=\"edge\">\n",
       "<title>7&#45;&gt;9</title>\n",
       "<path fill=\"none\" stroke=\"#000000\" d=\"M423.8431,-185.8089C429.7275,-177.1553 436.1687,-167.683 442.3213,-158.635\"/>\n",
       "<polygon fill=\"#000000\" stroke=\"#000000\" points=\"445.3753,-160.3681 448.1042,-150.1308 439.5868,-156.4319 445.3753,-160.3681\"/>\n",
       "</g>\n",
       "<!-- 10 -->\n",
       "<g id=\"node11\" class=\"node\">\n",
       "<title>10</title>\n",
       "<path fill=\"#39e581\" stroke=\"#000000\" d=\"M449.0733,-50C449.0733,-50 360.8329,-50 360.8329,-50 354.8329,-50 348.8329,-44 348.8329,-38 348.8329,-38 348.8329,-12 348.8329,-12 348.8329,-6 354.8329,0 360.8329,0 360.8329,0 449.0733,0 449.0733,0 455.0733,0 461.0733,-6 461.0733,-12 461.0733,-12 461.0733,-38 461.0733,-38 461.0733,-44 455.0733,-50 449.0733,-50\"/>\n",
       "<text text-anchor=\"middle\" x=\"404.9531\" y=\"-34.8\" font-family=\"Helvetica,sans-Serif\" font-size=\"14.00\" fill=\"#000000\">entropy = 0.0</text>\n",
       "<text text-anchor=\"middle\" x=\"404.9531\" y=\"-20.8\" font-family=\"Helvetica,sans-Serif\" font-size=\"14.00\" fill=\"#000000\">samples = 2</text>\n",
       "<text text-anchor=\"middle\" x=\"404.9531\" y=\"-6.8\" font-family=\"Helvetica,sans-Serif\" font-size=\"14.00\" fill=\"#000000\">value = [0, 2, 0]</text>\n",
       "</g>\n",
       "<!-- 9&#45;&gt;10 -->\n",
       "<g id=\"edge10\" class=\"edge\">\n",
       "<title>9&#45;&gt;10</title>\n",
       "<path fill=\"none\" stroke=\"#000000\" d=\"M447.5838,-85.9947C441.3501,-77.0756 434.5639,-67.3661 428.2767,-58.3706\"/>\n",
       "<polygon fill=\"#000000\" stroke=\"#000000\" points=\"431.0336,-56.2054 422.436,-50.014 425.296,-60.2156 431.0336,-56.2054\"/>\n",
       "</g>\n",
       "<!-- 11 -->\n",
       "<g id=\"node12\" class=\"node\">\n",
       "<title>11</title>\n",
       "<path fill=\"#8139e5\" stroke=\"#000000\" d=\"M579.0733,-50C579.0733,-50 490.8329,-50 490.8329,-50 484.8329,-50 478.8329,-44 478.8329,-38 478.8329,-38 478.8329,-12 478.8329,-12 478.8329,-6 484.8329,0 490.8329,0 490.8329,0 579.0733,0 579.0733,0 585.0733,0 591.0733,-6 591.0733,-12 591.0733,-12 591.0733,-38 591.0733,-38 591.0733,-44 585.0733,-50 579.0733,-50\"/>\n",
       "<text text-anchor=\"middle\" x=\"534.9531\" y=\"-34.8\" font-family=\"Helvetica,sans-Serif\" font-size=\"14.00\" fill=\"#000000\">entropy = 0.0</text>\n",
       "<text text-anchor=\"middle\" x=\"534.9531\" y=\"-20.8\" font-family=\"Helvetica,sans-Serif\" font-size=\"14.00\" fill=\"#000000\">samples = 1</text>\n",
       "<text text-anchor=\"middle\" x=\"534.9531\" y=\"-6.8\" font-family=\"Helvetica,sans-Serif\" font-size=\"14.00\" fill=\"#000000\">value = [0, 0, 1]</text>\n",
       "</g>\n",
       "<!-- 9&#45;&gt;11 -->\n",
       "<g id=\"edge11\" class=\"edge\">\n",
       "<title>9&#45;&gt;11</title>\n",
       "<path fill=\"none\" stroke=\"#000000\" d=\"M492.3224,-85.9947C498.5562,-77.0756 505.3424,-67.3661 511.6296,-58.3706\"/>\n",
       "<polygon fill=\"#000000\" stroke=\"#000000\" points=\"514.6102,-60.2156 517.4702,-50.014 508.8727,-56.2054 514.6102,-60.2156\"/>\n",
       "</g>\n",
       "<!-- 13 -->\n",
       "<g id=\"node14\" class=\"node\">\n",
       "<title>13</title>\n",
       "<path fill=\"#c09cf2\" stroke=\"#000000\" d=\"M670.4842,-250C670.4842,-250 561.422,-250 561.422,-250 555.422,-250 549.422,-244 549.422,-238 549.422,-238 549.422,-198 549.422,-198 549.422,-192 555.422,-186 561.422,-186 561.422,-186 670.4842,-186 670.4842,-186 676.4842,-186 682.4842,-192 682.4842,-198 682.4842,-198 682.4842,-238 682.4842,-238 682.4842,-244 676.4842,-250 670.4842,-250\"/>\n",
       "<text text-anchor=\"middle\" x=\"615.9531\" y=\"-234.8\" font-family=\"Helvetica,sans-Serif\" font-size=\"14.00\" fill=\"#000000\">sepal_width &lt;= 3.1</text>\n",
       "<text text-anchor=\"middle\" x=\"615.9531\" y=\"-220.8\" font-family=\"Helvetica,sans-Serif\" font-size=\"14.00\" fill=\"#000000\">entropy = 0.918</text>\n",
       "<text text-anchor=\"middle\" x=\"615.9531\" y=\"-206.8\" font-family=\"Helvetica,sans-Serif\" font-size=\"14.00\" fill=\"#000000\">samples = 3</text>\n",
       "<text text-anchor=\"middle\" x=\"615.9531\" y=\"-192.8\" font-family=\"Helvetica,sans-Serif\" font-size=\"14.00\" fill=\"#000000\">value = [0, 1, 2]</text>\n",
       "</g>\n",
       "<!-- 12&#45;&gt;13 -->\n",
       "<g id=\"edge13\" class=\"edge\">\n",
       "<title>12&#45;&gt;13</title>\n",
       "<path fill=\"none\" stroke=\"#000000\" d=\"M615.9531,-285.8089C615.9531,-277.6906 615.9531,-268.8517 615.9531,-260.3186\"/>\n",
       "<polygon fill=\"#000000\" stroke=\"#000000\" points=\"619.4532,-260.1307 615.9531,-250.1308 612.4532,-260.1308 619.4532,-260.1307\"/>\n",
       "</g>\n",
       "<!-- 16 -->\n",
       "<g id=\"node17\" class=\"node\">\n",
       "<title>16</title>\n",
       "<path fill=\"#8139e5\" stroke=\"#000000\" d=\"M808.8594,-243C808.8594,-243 713.0468,-243 713.0468,-243 707.0468,-243 701.0468,-237 701.0468,-231 701.0468,-231 701.0468,-205 701.0468,-205 701.0468,-199 707.0468,-193 713.0468,-193 713.0468,-193 808.8594,-193 808.8594,-193 814.8594,-193 820.8594,-199 820.8594,-205 820.8594,-205 820.8594,-231 820.8594,-231 820.8594,-237 814.8594,-243 808.8594,-243\"/>\n",
       "<text text-anchor=\"middle\" x=\"760.9531\" y=\"-227.8\" font-family=\"Helvetica,sans-Serif\" font-size=\"14.00\" fill=\"#000000\">entropy = 0.0</text>\n",
       "<text text-anchor=\"middle\" x=\"760.9531\" y=\"-213.8\" font-family=\"Helvetica,sans-Serif\" font-size=\"14.00\" fill=\"#000000\">samples = 43</text>\n",
       "<text text-anchor=\"middle\" x=\"760.9531\" y=\"-199.8\" font-family=\"Helvetica,sans-Serif\" font-size=\"14.00\" fill=\"#000000\">value = [0, 0, 43]</text>\n",
       "</g>\n",
       "<!-- 12&#45;&gt;16 -->\n",
       "<g id=\"edge16\" class=\"edge\">\n",
       "<title>12&#45;&gt;16</title>\n",
       "<path fill=\"none\" stroke=\"#000000\" d=\"M662.6302,-285.8089C679.6912,-274.0427 698.9469,-260.7629 715.8666,-249.0942\"/>\n",
       "<polygon fill=\"#000000\" stroke=\"#000000\" points=\"718.2325,-251.7142 724.4776,-243.1555 714.2584,-245.9517 718.2325,-251.7142\"/>\n",
       "</g>\n",
       "<!-- 14 -->\n",
       "<g id=\"node15\" class=\"node\">\n",
       "<title>14</title>\n",
       "<path fill=\"#8139e5\" stroke=\"#000000\" d=\"M660.0733,-143C660.0733,-143 571.8329,-143 571.8329,-143 565.8329,-143 559.8329,-137 559.8329,-131 559.8329,-131 559.8329,-105 559.8329,-105 559.8329,-99 565.8329,-93 571.8329,-93 571.8329,-93 660.0733,-93 660.0733,-93 666.0733,-93 672.0733,-99 672.0733,-105 672.0733,-105 672.0733,-131 672.0733,-131 672.0733,-137 666.0733,-143 660.0733,-143\"/>\n",
       "<text text-anchor=\"middle\" x=\"615.9531\" y=\"-127.8\" font-family=\"Helvetica,sans-Serif\" font-size=\"14.00\" fill=\"#000000\">entropy = 0.0</text>\n",
       "<text text-anchor=\"middle\" x=\"615.9531\" y=\"-113.8\" font-family=\"Helvetica,sans-Serif\" font-size=\"14.00\" fill=\"#000000\">samples = 2</text>\n",
       "<text text-anchor=\"middle\" x=\"615.9531\" y=\"-99.8\" font-family=\"Helvetica,sans-Serif\" font-size=\"14.00\" fill=\"#000000\">value = [0, 0, 2]</text>\n",
       "</g>\n",
       "<!-- 13&#45;&gt;14 -->\n",
       "<g id=\"edge14\" class=\"edge\">\n",
       "<title>13&#45;&gt;14</title>\n",
       "<path fill=\"none\" stroke=\"#000000\" d=\"M615.9531,-185.8089C615.9531,-175.446 615.9531,-163.909 615.9531,-153.3327\"/>\n",
       "<polygon fill=\"#000000\" stroke=\"#000000\" points=\"619.4532,-153.1555 615.9531,-143.1555 612.4532,-153.1556 619.4532,-153.1555\"/>\n",
       "</g>\n",
       "<!-- 15 -->\n",
       "<g id=\"node16\" class=\"node\">\n",
       "<title>15</title>\n",
       "<path fill=\"#39e581\" stroke=\"#000000\" d=\"M790.0733,-143C790.0733,-143 701.8329,-143 701.8329,-143 695.8329,-143 689.8329,-137 689.8329,-131 689.8329,-131 689.8329,-105 689.8329,-105 689.8329,-99 695.8329,-93 701.8329,-93 701.8329,-93 790.0733,-93 790.0733,-93 796.0733,-93 802.0733,-99 802.0733,-105 802.0733,-105 802.0733,-131 802.0733,-131 802.0733,-137 796.0733,-143 790.0733,-143\"/>\n",
       "<text text-anchor=\"middle\" x=\"745.9531\" y=\"-127.8\" font-family=\"Helvetica,sans-Serif\" font-size=\"14.00\" fill=\"#000000\">entropy = 0.0</text>\n",
       "<text text-anchor=\"middle\" x=\"745.9531\" y=\"-113.8\" font-family=\"Helvetica,sans-Serif\" font-size=\"14.00\" fill=\"#000000\">samples = 1</text>\n",
       "<text text-anchor=\"middle\" x=\"745.9531\" y=\"-99.8\" font-family=\"Helvetica,sans-Serif\" font-size=\"14.00\" fill=\"#000000\">value = [0, 1, 0]</text>\n",
       "</g>\n",
       "<!-- 13&#45;&gt;15 -->\n",
       "<g id=\"edge15\" class=\"edge\">\n",
       "<title>13&#45;&gt;15</title>\n",
       "<path fill=\"none\" stroke=\"#000000\" d=\"M657.8015,-185.8089C672.9573,-174.1506 690.0448,-161.0064 705.1127,-149.4157\"/>\n",
       "<polygon fill=\"#000000\" stroke=\"#000000\" points=\"707.4587,-152.0269 713.2509,-143.1555 703.1907,-146.4785 707.4587,-152.0269\"/>\n",
       "</g>\n",
       "</g>\n",
       "</svg>\n"
      ],
      "text/plain": [
       "<graphviz.files.Source at 0x10aa552d0>"
      ]
     },
     "execution_count": 19,
     "metadata": {},
     "output_type": "execute_result"
    }
   ],
   "source": [
    "import graphviz\n",
    "\n",
    "tree_data = tree.export_graphviz(clf,\n",
    "                                 feature_names=list(X),\n",
    "                                 filled=True,\n",
    "                                 rounded=True)\n",
    "graph = graphviz.Source(tree_data)  \n",
    "graph"
   ]
  },
  {
   "cell_type": "markdown",
   "metadata": {},
   "source": [
    "> The **first split** should be done on `petal_length`.  \n",
    "> In this, the criterion is whether the length is below/equal `2.45` or higher than that.  \n",
    "> If the petal's length is below or equal to 2.45, the iris-setosas can be perfectly separated  \n",
    "> from the remaining flowers in the dataset. This happening to all 50 setosa's, therefore the  \n",
    "> entropy in that leaf is zero; this is a node now.  \n",
    ">  \n",
    "> The remaining 100 flowers shall be on **second split** at `petal_width`.  \n",
    "> It therefore has an entropy of 1 (50/50 distribution). If the petal's width is above `1.75`,  \n",
    "> 45 of the 46 observations are a iris-virginica. Only one iris-versicolour has that width.  \n",
    "> Therefore, the entropy of that group is reduced to 0.151 by the previous splits.  \n",
    "> If the petal's width is below or equal to 1.75, 49 of the remaining 55 observations are versicolours.  \n",
    "> \n",
    "> This remaining group of 55 can be in a **third split** divided on `petal_length`, again.  \n",
    "> In this, the further decision is made up upon whether the length is below or equal to `4.95` or not.  \n",
    ">  \n",
    "> The rest of the tree is interpreted in the same pattern, I hope this is already enough explanation.\n",
    "\n",
    "----\n",
    "\n",
    ">  \n",
    "> **General Remarks**  \n",
    "> Left arrow equals `True` while right arrows equal `False` to the corresponding split-measurement.  \n",
    "> There are binary splits only, therefore attributes are not removed from the list after a single split.  \n",
    "> \n",
    "> The lower the entropy (=more \"pure\" the class) the more saturated the color of the cell is.  \n",
    "> The orange leaf does identify the pure group of setosas. The more green the leaf/node,  \n",
    "> the purer it consists of versicolours. The more purple the leaf/node, the purer it consists of  \n",
    "> verginicas.  \n",
    "> Since depth is not limited in the construction, each branch ends in a pure node."
   ]
  },
  {
   "cell_type": "markdown",
   "metadata": {},
   "source": [
    "---"
   ]
  }
 ],
 "metadata": {
  "kernelspec": {
   "display_name": "Python 3",
   "language": "python",
   "name": "python3"
  },
  "language_info": {
   "codemirror_mode": {
    "name": "ipython",
    "version": 3
   },
   "file_extension": ".py",
   "mimetype": "text/x-python",
   "name": "python",
   "nbconvert_exporter": "python",
   "pygments_lexer": "ipython3",
   "version": "3.7.5"
  }
 },
 "nbformat": 4,
 "nbformat_minor": 4
}
