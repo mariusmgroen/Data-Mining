{
 "cells": [
  {
   "cell_type": "markdown",
   "metadata": {},
   "source": [
    "Data Mining: Basic Concepts - WS'19/20 \n",
    "---------------\n",
    "``` \n",
    "> University of Konstanz \n",
    "> Department of Computer and Information Science\n",
    "> Dr. Johannes Fuchs, Eren Cakmak, Frederik Dennig\n",
    "```"
   ]
  },
  {
   "cell_type": "markdown",
   "metadata": {},
   "source": [
    "---"
   ]
  },
  {
   "cell_type": "markdown",
   "metadata": {},
   "source": [
    "#### Exercise 1:  K-means  - _(5 Points)_\n",
    "\n",
    "Perform k-means clustering with k=3 using the Euclidean distance by hand. Assume that initial clusters centroids are:\n",
    "\n",
    "* Cluster 1: Record # 2\n",
    "* Cluster 2: Record # 3\n",
    "* Cluster 3: Record # 9\n",
    "\n",
    "Compute for every iteration the updated cluster prototypes and state to which cluster each point is assigned after each iteration. \n",
    "\n",
    "_Note: In this exercise, you don’t need to normalize the data._"
   ]
  },
  {
   "cell_type": "markdown",
   "metadata": {},
   "source": [
    "|ID|X1|X2|X3|X4|X5|\n",
    "|-----|--------|-----------|-----------------|--------------|----|\n",
    "|1|0.12|0.23|0.18|0.30|0.25|\n",
    "|2|0.92|0.80|0.70|0.60|0.61|\n",
    "|3|0.10|0.16|0.15|0.28|0.31|\n",
    "|4|0.91|0.83|0.81|0.55|0.46|\n",
    "|5|0.51|0.29|0.37|0.54|0.69|\n",
    "|6|0.50|0.21|0.34|0.61|0.61|\n",
    "|7|0.90|0.85|0.75|0.60|0.63|\n",
    "|8|0.18|0.23|0.12|0.25|0.26|\n",
    "|9|0.44|0.25|0.35|0.59|0.64|\n",
    "|10|0.58|0.26|0.38|0.60|0.65|"
   ]
  },
  {
   "cell_type": "markdown",
   "metadata": {},
   "source": [
    "![](Graphs/Ass06_kMeans.gif)"
   ]
  },
  {
   "cell_type": "markdown",
   "metadata": {},
   "source": [
    "---"
   ]
  },
  {
   "cell_type": "markdown",
   "metadata": {},
   "source": [
    "#### Exercise 2: Partitioning Around Medoids (PAM)  - _(10 Points)_ \n",
    "\n",
    "Load the `USArrests.csv` dataset and the following methods which can be used to compute PAM. Please install the `pyclustering` package. \n",
    "\n",
    "_(Hint: Use only the following imports)_"
   ]
  },
  {
   "cell_type": "code",
   "execution_count": 1,
   "metadata": {},
   "outputs": [],
   "source": [
    "import pandas as pd\n",
    "import numpy as np\n",
    "from pyclustering.cluster.kmedoids import kmedoids\n",
    "from scipy.spatial.distance import pdist, cdist, squareform\n",
    "import matplotlib.pyplot as plt\n",
    "from random import randrange"
   ]
  },
  {
   "cell_type": "code",
   "execution_count": 2,
   "metadata": {},
   "outputs": [
    {
     "data": {
      "text/html": [
       "<div>\n",
       "<style scoped>\n",
       "    .dataframe tbody tr th:only-of-type {\n",
       "        vertical-align: middle;\n",
       "    }\n",
       "\n",
       "    .dataframe tbody tr th {\n",
       "        vertical-align: top;\n",
       "    }\n",
       "\n",
       "    .dataframe thead th {\n",
       "        text-align: right;\n",
       "    }\n",
       "</style>\n",
       "<table border=\"1\" class=\"dataframe\">\n",
       "  <thead>\n",
       "    <tr style=\"text-align: right;\">\n",
       "      <th></th>\n",
       "      <th>State</th>\n",
       "      <th>Murder</th>\n",
       "      <th>Assault</th>\n",
       "      <th>UrbanPop</th>\n",
       "      <th>Rape</th>\n",
       "    </tr>\n",
       "  </thead>\n",
       "  <tbody>\n",
       "    <tr>\n",
       "      <th>0</th>\n",
       "      <td>Alabama</td>\n",
       "      <td>13.2</td>\n",
       "      <td>236</td>\n",
       "      <td>58</td>\n",
       "      <td>21.2</td>\n",
       "    </tr>\n",
       "    <tr>\n",
       "      <th>1</th>\n",
       "      <td>Alaska</td>\n",
       "      <td>10.0</td>\n",
       "      <td>263</td>\n",
       "      <td>48</td>\n",
       "      <td>44.5</td>\n",
       "    </tr>\n",
       "    <tr>\n",
       "      <th>2</th>\n",
       "      <td>Arizona</td>\n",
       "      <td>8.1</td>\n",
       "      <td>294</td>\n",
       "      <td>80</td>\n",
       "      <td>31.0</td>\n",
       "    </tr>\n",
       "    <tr>\n",
       "      <th>3</th>\n",
       "      <td>Arkansas</td>\n",
       "      <td>8.8</td>\n",
       "      <td>190</td>\n",
       "      <td>50</td>\n",
       "      <td>19.5</td>\n",
       "    </tr>\n",
       "    <tr>\n",
       "      <th>4</th>\n",
       "      <td>California</td>\n",
       "      <td>9.0</td>\n",
       "      <td>276</td>\n",
       "      <td>91</td>\n",
       "      <td>40.6</td>\n",
       "    </tr>\n",
       "  </tbody>\n",
       "</table>\n",
       "</div>"
      ],
      "text/plain": [
       "        State  Murder  Assault  UrbanPop  Rape\n",
       "0     Alabama    13.2      236        58  21.2\n",
       "1      Alaska    10.0      263        48  44.5\n",
       "2     Arizona     8.1      294        80  31.0\n",
       "3    Arkansas     8.8      190        50  19.5\n",
       "4  California     9.0      276        91  40.6"
      ]
     },
     "execution_count": 2,
     "metadata": {},
     "output_type": "execute_result"
    }
   ],
   "source": [
    "df = pd.read_csv('Data/USArrests.csv')\n",
    "df.head()"
   ]
  },
  {
   "cell_type": "markdown",
   "metadata": {},
   "source": [
    "##### __(a) Standardize the columns of the \"USArrests\" dataset. Explain why we have to standardize the dataset?__"
   ]
  },
  {
   "cell_type": "code",
   "execution_count": 3,
   "metadata": {
    "scrolled": true
   },
   "outputs": [
    {
     "name": "stdout",
     "output_type": "stream",
     "text": [
      "Mean   Murder    -0.0000\n",
      "StdDev Murder     1.0000\n",
      "\n",
      "Mean   Assault    0.0000\n",
      "StdDev Assault    1.0000\n",
      "\n",
      "Mean   UrbanPop  -0.0000\n",
      "StdDev UrbanPop   1.0000\n",
      "\n",
      "Mean   Rape       0.0000\n",
      "StdDev Rape       1.0000\n",
      "\n"
     ]
    }
   ],
   "source": [
    "def standardize(df):\n",
    "    cols = list(df)\n",
    "    for col in cols:\n",
    "        if df[col].dtypes == np.float64 or df[col].dtypes == np.int64:\n",
    "            col_mean = df[col].mean()\n",
    "            col_std = df[col].std()\n",
    "            df[col] = (df[col]-col_mean)/col_std\n",
    "            print('Mean   {0:10s}{1:7.4f}'.format(col, round(df[col].mean(),5)))\n",
    "            print('StdDev {0:10s}{1:7.4f}\\n'.format(col, round(df[col].std(),5)))\n",
    "    return(df)\n",
    "\n",
    "df_std = standardize(df)\n",
    "\n",
    "# We have to standardize the dataset because not every unit/variable is measured in the same scale\n",
    "# standardizing these to mean 0 and stddev 1 leads to the information being comparable to each other"
   ]
  },
  {
   "cell_type": "markdown",
   "metadata": {},
   "source": [
    "##### __(b) Compute the PAM (`kmedoids`) using `k = 3`. List the cluster and cluster medoids. Describe and explain the results.__"
   ]
  },
  {
   "cell_type": "code",
   "execution_count": 4,
   "metadata": {},
   "outputs": [
    {
     "data": {
      "text/plain": [
       "array([[ 1.24256408,  0.78283935, -0.52090661, -0.00341647],\n",
       "       [ 0.50786248,  1.10682252, -1.21176419,  2.48420294],\n",
       "       [ 0.07163341,  1.47880321,  0.99898006,  1.04287839],\n",
       "       [ 0.23234938,  0.23086801, -1.07359268, -0.1849166 ],\n",
       "       [ 0.27826823,  1.26281442,  1.7589234 ,  2.06782029]])"
      ]
     },
     "execution_count": 4,
     "metadata": {},
     "output_type": "execute_result"
    }
   ],
   "source": [
    "# Drop state due to no usefull information contained\n",
    "df.drop(columns=['State'], inplace=True)\n",
    "\n",
    "# Convert dataframe to array (for PAM)\n",
    "x = df.to_numpy()\n",
    "# Have a header-view of the \"new\" data\n",
    "x[0:5]"
   ]
  },
  {
   "cell_type": "code",
   "execution_count": 5,
   "metadata": {},
   "outputs": [
    {
     "name": "stdout",
     "output_type": "stream",
     "text": [
      "Cluster 1: [40, 11, 14, 18, 25, 28, 33, 44, 47]\n",
      "Cluster 2: [15, 3, 6, 7, 10, 13, 16, 20, 22, 26, 29, 34, 35, 36, 37, 38, 43, 45, 46, 48, 49]\n",
      "Cluster 3: [30, 0, 1, 2, 4, 5, 8, 9, 12, 17, 19, 21, 23, 24, 27, 31, 32, 39, 41, 42]\n",
      "[40, 15, 30]\n"
     ]
    }
   ],
   "source": [
    "# Set k\n",
    "k = 3\n",
    "\n",
    "# Choose k random medoids from the data (seed for reproducibility)\n",
    "np.random.seed(0)\n",
    "random_initial_medoids = np.random.randint(0,len(x),k)\n",
    "\n",
    "# Initialize kmedoids with data and random starting points\n",
    "pam = kmedoids(x, initial_index_medoids=random_initial_medoids)\n",
    "pam.process()\n",
    "\n",
    "# Show results of clustering\n",
    "clusters = pam.get_clusters()\n",
    "for i, cluster in zip(range(3), clusters):\n",
    "    print('Cluster {}: {}'.format(i+1, cluster))\n",
    "\n",
    "# Show medoids representative for each of the k clusters\n",
    "medoids = pam.get_medoids()\n",
    "print(medoids)\n",
    "\n",
    "# Shown below are the three clusters, the list contain the represent the data point (by index)\n",
    "# from the data. The first entries, as well displayed in the medoids, are the central medoids \n",
    "# used as an anchorpoint / distance-minimizing datapoint for each cluster."
   ]
  },
  {
   "cell_type": "markdown",
   "metadata": {},
   "source": [
    "##### __(c) Define an Python method to compute the measure for the compactness of a PAM clustering. The parameters of the method is the data and the instance of the kmedoids class (`kmedoids_instance`).__\n",
    "\n",
    "$$TD=\\sum\\limits^k_{i = 1} TD(C_i) \\text{ and } TD(C) = \\sum\\limits_{p \\in C} dist(p, m_c)$$\n",
    "\n",
    "The medoid $m_c$ is the representative element of the cluster. \n",
    "\n",
    "_(Hint: Use the `pdist` or `cdist` method to compute the pairwise distance between $p$ and $m_c$)_"
   ]
  },
  {
   "cell_type": "code",
   "execution_count": 6,
   "metadata": {
    "scrolled": true
   },
   "outputs": [
    {
     "name": "stdout",
     "output_type": "stream",
     "text": [
      "Cluster 1\n",
      "Data:  [40, 11, 14, 18, 25, 28, 33, 44, 47]\n",
      "cdist:  7.28\n",
      "\n",
      "Cluster 2\n",
      "Data:  [15, 3, 6, 7, 10, 13, 16, 20, 22, 26, 29, 34, 35, 36, 37, 38, 43, 45, 46, 48, 49]\n",
      "cdist:  22.74\n",
      "\n",
      "Cluster 3\n",
      "Data:  [30, 0, 1, 2, 4, 5, 8, 9, 12, 17, 19, 21, 23, 24, 27, 31, 32, 39, 41, 42]\n",
      "cdist:  29.84\n",
      "\n"
     ]
    }
   ],
   "source": [
    "def tdc(data, model, output=True):\n",
    "    \"\"\"Compute total distances (TD as well as TD(C)) for PAM clustering.\n",
    "    The higher the distances, the less compact the cluster(ing).\n",
    "    \n",
    "    Input:\n",
    "      data:   Array of data (as for pyclustering.cluster.kmedoids)\n",
    "      model:  The already initialized and processed model of kmedoids\n",
    "      output: Print intermediate results while calculating, default=True\n",
    "    \n",
    "    Returns:\n",
    "      cluster_distances: List of distances from each cluster's data point to\n",
    "                         its respective medoid (for each cluster as arrays)\n",
    "                         = TD(C)\n",
    "      td:                Sum of all distances, measures compactness\n",
    "                         = TD\n",
    "     \n",
    "    \"\"\"\n",
    "    clusters = model.get_clusters()\n",
    "    \n",
    "    td = 0\n",
    "    cluster_distances = []\n",
    "    for i, cluster in zip(range(len(medoids)), clusters):\n",
    "        cluster_distances.append(cdist(data[cluster], data[cluster][[0]]))\n",
    "        td = td + cluster_distances[i].sum()\n",
    "        if output:\n",
    "            print('Cluster {}\\nData:  {}\\ncdist:  {}\\n'.format(i+1,\n",
    "                                                               cluster,\n",
    "                                                               round(cluster_distances[i].sum(),2)))\n",
    "    return(cluster_distances, td)\n",
    "\n",
    "cluster_distances, td = tdc(x, pam)"
   ]
  },
  {
   "cell_type": "markdown",
   "metadata": {},
   "source": [
    "##### __(d) Use the newly defined function to compute TD of PAM $k = 3$.__"
   ]
  },
  {
   "cell_type": "code",
   "execution_count": 7,
   "metadata": {},
   "outputs": [
    {
     "name": "stdout",
     "output_type": "stream",
     "text": [
      "59.863704584976475\n"
     ]
    }
   ],
   "source": [
    "k = 3\n",
    "np.random.seed(0)\n",
    "random_initial_medoids = np.random.randint(0,len(x),k)\n",
    "\n",
    "pam = kmedoids(x, initial_index_medoids=random_initial_medoids)\n",
    "pam.process()\n",
    "\n",
    "cluster_distances, td = tdc(x, pam, output=False)\n",
    "print(td)"
   ]
  },
  {
   "cell_type": "markdown",
   "metadata": {},
   "source": [
    "##### __(e) Compute the TD's for PAM with $k = 1, \\dots, 10$ and plot the results. Explain the results of the plot.__"
   ]
  },
  {
   "cell_type": "code",
   "execution_count": 8,
   "metadata": {},
   "outputs": [
    {
     "name": "stdout",
     "output_type": "stream",
     "text": [
      " k | Total Distance\n",
      "---+---------------\n",
      " 1 |  92.99458\n",
      " 2 |  73.05703\n",
      " 3 |  59.86370\n",
      " 4 |  34.50146\n",
      " 5 |  20.40560\n",
      " 6 |  20.40560\n",
      " 7 |  9.82871\n",
      " 8 |  7.72849\n",
      " 9 |  7.72849\n",
      "10 |  7.72849\n"
     ]
    }
   ],
   "source": [
    "list_of_k = list(range(1,11))\n",
    "list_of_td = []\n",
    "\n",
    "print(' k | Total Distance\\n---+---------------')\n",
    "for k in list_of_k:\n",
    "    np.random.seed(0)\n",
    "    random_initial_medoids = np.random.randint(0,len(x),k)\n",
    "    pam = kmedoids(x, initial_index_medoids=random_initial_medoids)\n",
    "    pam.process()\n",
    "    cluster_distances, td = tdc(x, pam, output=False)\n",
    "    list_of_td.append(td)\n",
    "    print('{:2} |  {:.5f}'.format(k, td))"
   ]
  },
  {
   "cell_type": "code",
   "execution_count": 9,
   "metadata": {
    "scrolled": false
   },
   "outputs": [
    {
     "data": {
      "image/png": "[encoded data removed]",
      "text/plain": [
       "<Figure size 720x576 with 1 Axes>"
      ]
     },
     "metadata": {
      "needs_background": "light"
     },
     "output_type": "display_data"
    }
   ],
   "source": [
    "x = list_of_k\n",
    "y = list_of_td\n",
    "\n",
    "plt.figure(figsize=(10,8))\n",
    "plt.plot(x, y, '-o', markersize=8)\n",
    "\n",
    "plt.xlabel('Nr. of k')\n",
    "plt.xlim(0.5,10.5)\n",
    "plt.xticks(range(1,11))\n",
    "\n",
    "plt.ylabel('Compactness (TD)')\n",
    "plt.ylim(0,100)\n",
    "plt.yticks(range(0,110,10))\n",
    "\n",
    "plt.grid(axis='y', linewidth=0.5)\n",
    "\n",
    "plt.show()"
   ]
  },
  {
   "cell_type": "markdown",
   "metadata": {},
   "source": [
    "> **Interpretation**\n",
    ">  \n",
    "> As k increases, the clustering becomes more compact.  \n",
    "> Important to mention is that this relationship is not of linear nature!  \n",
    "> Instead, there is a near-linear decrease in TD from k=1 to k=5, no change afterwards and \n",
    "> only a small drop between k=6 and k=7 again. Further increasing k does not change TD.  \n",
    ">  \n",
    "> This can be interpreted as follows: with each addition medoid/cluster used, the compactness of\n",
    "> the clustering increases until it stops optimizing at k=5. Therefore, I would suggest to \n",
    "> assume 5 clusters in this data, even though 7 might be an acceptable alternative as well.  \n",
    "> More clusters should not be build!"
   ]
  },
  {
   "cell_type": "markdown",
   "metadata": {},
   "source": [
    "---"
   ]
  },
  {
   "cell_type": "markdown",
   "metadata": {},
   "source": [
    "#### Exercise 3: Expectation Maximization (EM) Algorithm  - _(5 Points)_ \n",
    "\n",
    "The sklearn class `GaussianMixture`can be used to compute the EM algorithm. "
   ]
  },
  {
   "cell_type": "code",
   "execution_count": 10,
   "metadata": {},
   "outputs": [],
   "source": [
    "import numpy as np\n",
    "import pandas as pd\n",
    "import matplotlib.pyplot as plt\n",
    "\n",
    "from sklearn.mixture import GaussianMixture"
   ]
  },
  {
   "cell_type": "markdown",
   "metadata": {},
   "source": [
    "##### __(a) Cluster the `em-data.csv` data. Describe each step and reason your parameter choices.__"
   ]
  },
  {
   "cell_type": "code",
   "execution_count": 11,
   "metadata": {},
   "outputs": [
    {
     "name": "stdout",
     "output_type": "stream",
     "text": [
      "Mean   d0        -0.0000\n",
      "StdDev d0         1.0000\n",
      "\n",
      "Mean   d1         0.0000\n",
      "StdDev d1         1.0000\n",
      "\n"
     ]
    },
    {
     "data": {
      "image/png": "[encoded data removed]",
      "text/plain": [
       "<Figure size 432x288 with 1 Axes>"
      ]
     },
     "metadata": {
      "needs_background": "light"
     },
     "output_type": "display_data"
    }
   ],
   "source": [
    "# Read the Data\n",
    "df = pd.read_csv('Data/em-data.csv')\n",
    "\n",
    "# Standardize the Data\n",
    "df = standardize(df)\n",
    "\n",
    "# Plot the data\n",
    "plt.scatter(x=df['d0'],\n",
    "            y=df['d1'])\n",
    "plt.show()"
   ]
  },
  {
   "cell_type": "markdown",
   "metadata": {},
   "source": [
    "> **These are obviously three _\"real\"_ clusters with a little bit of noise around**"
   ]
  },
  {
   "cell_type": "code",
   "execution_count": 12,
   "metadata": {},
   "outputs": [
    {
     "name": "stdout",
     "output_type": "stream",
     "text": [
      "[0 0 0 0 0 1 1 1 1 1 1 1 1 1 1 1 1 0 1 1 1 0 0 0 0 0 0 1 1 1 1 1 1 1 0 1 1\n",
      " 0 2 2 2]\n",
      "[3 3 3 3 3 0 0 0 0 0 1 1 1 1 1 1 1 3 0 0 0 3 3 3 3 3 3 1 1 1 1 1 1 1 3 0 0\n",
      " 3 2 2 2]\n"
     ]
    }
   ],
   "source": [
    "# Random State for Reproducibility, n_components=3 because it should detect 3 clusters\n",
    "gmc = GaussianMixture(n_components=3, random_state=1).fit(df)\n",
    "# Shows cluster for each data point\n",
    "cluster3 = gmc.predict(df)\n",
    "print(cluster3)\n",
    "\n",
    "# Noise might have an influence on clustering, try again with 4 clusters\n",
    "# (3 clusters + noise, random_state still 1)\n",
    "gmc = GaussianMixture(n_components=4, random_state=1).fit(df)\n",
    "# Shows cluster for each data point\n",
    "cluster4 = gmc.predict(df)\n",
    "print(cluster4)"
   ]
  },
  {
   "cell_type": "markdown",
   "metadata": {},
   "source": [
    "##### __(b) Visualize your results in a 2D plot.__"
   ]
  },
  {
   "cell_type": "code",
   "execution_count": 13,
   "metadata": {
    "scrolled": true
   },
   "outputs": [
    {
     "data": {
      "image/png": "[encoded data removed]",
      "text/plain": [
       "<Figure size 864x360 with 2 Axes>"
      ]
     },
     "metadata": {
      "needs_background": "light"
     },
     "output_type": "display_data"
    }
   ],
   "source": [
    "plt.figure(figsize=(12, 5))\n",
    "\n",
    "plt.subplot(121)\n",
    "plt.title('k = 3')\n",
    "plt.scatter(x=df['d0'],\n",
    "            y=df['d1'],\n",
    "            c=cluster3)\n",
    "\n",
    "plt.subplot(122)\n",
    "plt.title('k = 4')\n",
    "plt.scatter(x=df['d0'],\n",
    "            y=df['d1'],\n",
    "            c=cluster4)\n",
    "plt.show()"
   ]
  },
  {
   "cell_type": "markdown",
   "metadata": {},
   "source": [
    "> **In this case, k=4 should be preferred.  \n",
    "> It handles the noise as a separate cluster and therefore identifies the remaining three clusters correct**"
   ]
  },
  {
   "cell_type": "markdown",
   "metadata": {},
   "source": [
    "---"
   ]
  }
 ],
 "metadata": {
  "kernelspec": {
   "display_name": "Python 3",
   "language": "python",
   "name": "python3"
  },
  "language_info": {
   "codemirror_mode": {
    "name": "ipython",
    "version": 3
   },
   "file_extension": ".py",
   "mimetype": "text/x-python",
   "name": "python",
   "nbconvert_exporter": "python",
   "pygments_lexer": "ipython3",
   "version": "3.7.5"
  }
 },
 "nbformat": 4,
 "nbformat_minor": 4
}
